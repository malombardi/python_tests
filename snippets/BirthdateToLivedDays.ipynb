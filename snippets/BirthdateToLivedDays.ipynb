{
 "cells": [
  {
   "cell_type": "markdown",
   "metadata": {},
   "source": [
    "##### I saw this question on StackOverflow and I want to give it a try\n",
    "\n",
    "###### I need to convert a birthdate to \"you lived ____ days\""
   ]
  },
  {
   "cell_type": "code",
   "execution_count": 1,
   "metadata": {},
   "outputs": [],
   "source": [
    "from datetime import datetime\n",
    "import time"
   ]
  },
  {
   "cell_type": "code",
   "execution_count": 2,
   "metadata": {},
   "outputs": [],
   "source": [
    "def convert_birthdate():\n",
    "    today_in_millis = int(round(time.time() * 1000))\n",
    "\n",
    "    user_birthday_day = input(\"What day were you born? \")\n",
    "    user_birthday_month = input(\"What month were you born in? \")\n",
    "    user_birthday_year = input(\"What year were you born in? \")\n",
    "\n",
    "    user_birth = user_birthday_day + user_birthday_month + user_birthday_year\n",
    "\n",
    "    user_birth_obj = datetime.strptime(user_birth, '%d%m%Y')\n",
    "    user_birth_in_millis = user_birth_obj.timestamp()*1000\n",
    "\n",
    "    diff = (today_in_millis - user_birth_in_millis) / 1000\n",
    "\n",
    "    days = int(diff * 1.1575e-5)\n",
    "\n",
    "    print(\"You've lived \" + str(days) + \" days.\")"
   ]
  },
  {
   "cell_type": "code",
   "execution_count": 3,
   "metadata": {},
   "outputs": [
    {
     "name": "stdin",
     "output_type": "stream",
     "text": [
      "What day were you born?  22\n",
      "What month were you born in?  5\n",
      "What year were you born in?  1987\n"
     ]
    },
    {
     "name": "stdout",
     "output_type": "stream",
     "text": [
      "You've lived 12250 days.\n"
     ]
    }
   ],
   "source": [
    "convert_birthdate()"
   ]
  },
  {
   "cell_type": "code",
   "execution_count": null,
   "metadata": {},
   "outputs": [],
   "source": []
  }
 ],
 "metadata": {
  "kernelspec": {
   "display_name": "Python 3",
   "language": "python",
   "name": "python3"
  },
  "language_info": {
   "codemirror_mode": {
    "name": "ipython",
    "version": 3
   },
   "file_extension": ".py",
   "mimetype": "text/x-python",
   "name": "python",
   "nbconvert_exporter": "python",
   "pygments_lexer": "ipython3",
   "version": "3.8.5"
  }
 },
 "nbformat": 4,
 "nbformat_minor": 4
}
