{
 "cells": [
  {
   "cell_type": "markdown",
   "metadata": {},
   "source": [
    "##### This is another question from StackOverflow."
   ]
  },
  {
   "cell_type": "markdown",
   "metadata": {},
   "source": [
    "##### How to use API in idealista with python\n",
    "###### is there a way to use idealista Api in python or a simpler way ? I didn't try this before. I have the APIkey and the secret, and have a list of cadastral codes, so want to get rent price for each code! "
   ]
  },
  {
   "cell_type": "markdown",
   "metadata": {},
   "source": [
    "##### Here is my proposed solution"
   ]
  },
  {
   "cell_type": "markdown",
   "metadata": {},
   "source": [
    "**I'll not use my credentials here**"
   ]
  },
  {
   "cell_type": "code",
   "execution_count": 1,
   "metadata": {},
   "outputs": [],
   "source": [
    "import json\n",
    "import requests\n",
    "import base64\n",
    "\n",
    "def get_token():\n",
    "    API_KEY= \"YOUR_API_KEY\"\n",
    "    SECRET= \"YOUR_SECRET\"\n",
    "    message = API_KEY + \":\" + SECRET\n",
    "    auth = \"Basic \" + base64.b64encode(message.encode(\"ascii\")).decode(\"ascii\")\n",
    "\n",
    "    headers_dic = {\"Authorization\" : auth,\n",
    "                   \"Content-Type\" : \"application/x-www-form-urlencoded;charset=UTF-8\"}\n",
    "\n",
    "    params_dic = {\"grant_type\" : \"client_credentials\",\n",
    "                  \"scope\" : \"read\"}\n",
    "\n",
    "    r = requests.post(\"https://api.idealista.com/oauth/token\",\n",
    "                      headers = headers_dic,\n",
    "                      params = params_dic)\n",
    "\n",
    "    bearer_token = json.loads(r.text)['access_token']\n",
    "\n",
    "    return bearer_token"
   ]
  },
  {
   "cell_type": "code",
   "execution_count": 2,
   "metadata": {},
   "outputs": [],
   "source": [
    "def get_search():\n",
    "    headers_dic = {\"Authorization\" : \"Bearer \" + TOKEN,\n",
    "                   \"Content-Type\" : \"application/x-www-form-urlencoded\"}\n",
    "\n",
    "    params_dic = {\"operation\" : \"rent\",\n",
    "                  \"locationId\" : \"0-EU-ES-01\",\n",
    "                  \"propertyType\" : \"homes\"}\n",
    "\n",
    "    r = requests.post(\"https://api.idealista.com/3.5/es/search\",\n",
    "                      headers = headers_dic,\n",
    "                      params = params_dic)\n",
    "\n",
    "    result_json = json.loads(r.text)\n",
    "\n",
    "    return result_json"
   ]
  },
  {
   "cell_type": "code",
   "execution_count": null,
   "metadata": {},
   "outputs": [],
   "source": []
  }
 ],
 "metadata": {
  "kernelspec": {
   "display_name": "Python 3",
   "language": "python",
   "name": "python3"
  },
  "language_info": {
   "codemirror_mode": {
    "name": "ipython",
    "version": 3
   },
   "file_extension": ".py",
   "mimetype": "text/x-python",
   "name": "python",
   "nbconvert_exporter": "python",
   "pygments_lexer": "ipython3",
   "version": "3.8.5"
  }
 },
 "nbformat": 4,
 "nbformat_minor": 4
}
