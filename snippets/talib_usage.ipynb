{
 "cells": [
  {
   "cell_type": "markdown",
   "metadata": {},
   "source": [
    "##### Want to try TA-lib and Yfinance"
   ]
  },
  {
   "cell_type": "code",
   "execution_count": 2,
   "metadata": {},
   "outputs": [
    {
     "name": "stdout",
     "output_type": "stream",
     "text": [
      "Collecting TA-Lib\n",
      "  Using cached TA-Lib-0.4.19.tar.gz (267 kB)\n",
      "Requirement already satisfied: numpy in /home/mauro/anaconda3/envs/py36/lib/python3.6/site-packages (from TA-Lib) (1.19.2)\n",
      "Building wheels for collected packages: TA-Lib\n",
      "  Building wheel for TA-Lib (setup.py) ... \u001b[?25ldone\n",
      "\u001b[?25h  Created wheel for TA-Lib: filename=TA_Lib-0.4.19-cp36-cp36m-linux_x86_64.whl size=2071982 sha256=8965df72bc2c4c941ed3b6742cd4a6681e4760381d11bdea416108f311c561f1\n",
      "  Stored in directory: /home/mauro/.cache/pip/wheels/56/11/d0/bd214f9bc59dae5004f8f3614139b523882c1ffa3cae90aebd\n",
      "Successfully built TA-Lib\n",
      "Installing collected packages: TA-Lib\n",
      "Successfully installed TA-Lib-0.4.19\n"
     ]
    }
   ],
   "source": [
    "!pip install TA-Lib"
   ]
  },
  {
   "cell_type": "code",
   "execution_count": 3,
   "metadata": {},
   "outputs": [],
   "source": [
    "import pandas as pd\n",
    "import yfinance as yf\n",
    "import talib as tl"
   ]
  },
  {
   "cell_type": "code",
   "execution_count": 7,
   "metadata": {},
   "outputs": [
    {
     "name": "stdout",
     "output_type": "stream",
     "text": [
      "[*********************100%***********************]  1 of 1 completed\n",
      "Date\n",
      "2020-01-02    0\n",
      "2020-01-03    0\n",
      "2020-01-06    0\n",
      "2020-01-07    0\n",
      "2020-01-08    0\n",
      "             ..\n",
      "2020-12-07    0\n",
      "2020-12-08    0\n",
      "2020-12-09    0\n",
      "2020-12-10    0\n",
      "2020-12-11    0\n",
      "Length: 240, dtype: int32\n"
     ]
    }
   ],
   "source": [
    "data = yf.download(\"SPY\", start=\"2020-01-01\", end=\"2020-12-14\")\n",
    "\n",
    "talib_result = tl.CDLMORNINGSTAR(data['Open'], data['High'], data['Low'], data['Close'])\n",
    "\n",
    "print(talib_result)"
   ]
  },
  {
   "cell_type": "code",
   "execution_count": 8,
   "metadata": {},
   "outputs": [
    {
     "name": "stdout",
     "output_type": "stream",
     "text": [
      "Date\n",
      "2020-03-24    100\n",
      "dtype: int32\n"
     ]
    }
   ],
   "source": [
    "print(talib_result[talib_result != 0])"
   ]
  },
  {
   "cell_type": "code",
   "execution_count": null,
   "metadata": {},
   "outputs": [],
   "source": []
  }
 ],
 "metadata": {
  "kernelspec": {
   "display_name": "Python 3",
   "language": "python",
   "name": "python3"
  },
  "language_info": {
   "codemirror_mode": {
    "name": "ipython",
    "version": 3
   },
   "file_extension": ".py",
   "mimetype": "text/x-python",
   "name": "python",
   "nbconvert_exporter": "python",
   "pygments_lexer": "ipython3",
   "version": "3.6.12"
  }
 },
 "nbformat": 4,
 "nbformat_minor": 4
}
