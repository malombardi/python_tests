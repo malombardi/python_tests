{
 "cells": [
  {
   "cell_type": "markdown",
   "metadata": {},
   "source": [
    "#### I love Sudoku game, I made this solver for fun and also to tests my solved sudokus\n",
    "\n",
    "The way to achieve this is using backpropagation."
   ]
  },
  {
   "cell_type": "markdown",
   "metadata": {},
   "source": [
    "**First a function to print the board in a \"pretty\" way**"
   ]
  },
  {
   "cell_type": "code",
   "execution_count": 1,
   "metadata": {},
   "outputs": [],
   "source": [
    "def print_board(bo):\n",
    "    for i in range(len(bo)):\n",
    "        if i % 3 == 0 and i != 0:\n",
    "            print(\"- - - - - - - - - - - - - \")\n",
    "\n",
    "        for j in range(len(bo[0])):\n",
    "            if j % 3 == 0 and j != 0:\n",
    "                print(\" | \", end=\"\")\n",
    "\n",
    "            if j == 8:\n",
    "                print(bo[i][j])\n",
    "            else:\n",
    "                print(str(bo[i][j]) + \" \", end=\"\")\n"
   ]
  },
  {
   "cell_type": "markdown",
   "metadata": {},
   "source": [
    "**I need a funtion to find the first empty square**"
   ]
  },
  {
   "cell_type": "code",
   "execution_count": 2,
   "metadata": {},
   "outputs": [],
   "source": [
    "def find_empty(bo):\n",
    "    for i in range(len(bo)):\n",
    "        for j in range(len(bo[0])):\n",
    "            if bo[i][j] == 0:\n",
    "                return (i, j)  # row, col\n",
    "\n",
    "    return None"
   ]
  },
  {
   "cell_type": "markdown",
   "metadata": {},
   "source": [
    "**Solver function and a Validation function**"
   ]
  },
  {
   "cell_type": "code",
   "execution_count": 3,
   "metadata": {},
   "outputs": [],
   "source": [
    "def solve(bo):\n",
    "    find = find_empty(bo)\n",
    "    if not find:\n",
    "        return True\n",
    "    else:\n",
    "        row, col = find\n",
    "\n",
    "    for i in range(1, 10):\n",
    "        if valid(bo, i, (row, col)):\n",
    "            bo[row][col] = i\n",
    "\n",
    "            if solve(bo):\n",
    "                return True\n",
    "\n",
    "            bo[row][col] = 0\n",
    "\n",
    "    return False\n",
    "\n",
    "\n",
    "def valid(bo, num, pos):\n",
    "    # Check row\n",
    "    for i in range(len(bo[0])):\n",
    "        if bo[pos[0]][i] == num and pos[1] != i:\n",
    "            return False\n",
    "\n",
    "    # Check column\n",
    "    for i in range(len(bo)):\n",
    "        if bo[i][pos[1]] == num and pos[0] != i:\n",
    "            return False\n",
    "\n",
    "    # Check box\n",
    "    box_x = pos[1] // 3\n",
    "    box_y = pos[0] // 3\n",
    "\n",
    "    for i in range(box_y*3, box_y*3 + 3):\n",
    "        for j in range(box_x * 3, box_x*3 + 3):\n",
    "            if bo[i][j] == num and (i, j) != pos:\n",
    "                return False\n",
    "\n",
    "    return True\n"
   ]
  },
  {
   "cell_type": "markdown",
   "metadata": {},
   "source": [
    "**Testing the solver**"
   ]
  },
  {
   "cell_type": "code",
   "execution_count": 4,
   "metadata": {},
   "outputs": [
    {
     "name": "stdout",
     "output_type": "stream",
     "text": [
      "5 8 6  | 4 7 2  | 9 1 3\n",
      "3 2 4  | 9 5 1  | 6 8 7\n",
      "1 7 9  | 6 3 8  | 2 5 4\n",
      "- - - - - - - - - - - - - \n",
      "4 3 7  | 2 6 5  | 8 9 1\n",
      "9 6 2  | 8 1 7  | 3 4 5\n",
      "8 1 5  | 3 9 4  | 7 2 6\n",
      "- - - - - - - - - - - - - \n",
      "2 9 1  | 7 4 6  | 5 3 8\n",
      "7 4 3  | 5 8 9  | 1 6 2\n",
      "6 5 8  | 1 2 3  | 4 7 9\n"
     ]
    }
   ],
   "source": [
    "board = [\n",
    "    [5, 8, 6, 0, 7, 0, 0, 0, 0],\n",
    "    [0, 0, 0, 9, 0, 1, 6, 0, 0],\n",
    "    [0, 0, 0, 6, 0, 0, 0, 0, 0],\n",
    "    [0, 0, 7, 0, 6, 0, 0, 0, 0],\n",
    "    [9, 0, 2, 0, 1, 0, 3, 0, 5],\n",
    "    [0, 0, 5, 0, 9, 0, 0, 0, 0],\n",
    "    [0, 9, 0, 0, 4, 0, 0, 0, 8],\n",
    "    [0, 0, 3, 5, 0, 0, 0, 6, 0],\n",
    "    [0, 0, 0, 0, 2, 0, 4, 7, 0]]\n",
    "\n",
    "solve(board)\n",
    "print_board(board)"
   ]
  },
  {
   "cell_type": "code",
   "execution_count": null,
   "metadata": {},
   "outputs": [],
   "source": []
  }
 ],
 "metadata": {
  "kernelspec": {
   "display_name": "Python 3",
   "language": "python",
   "name": "python3"
  },
  "language_info": {
   "codemirror_mode": {
    "name": "ipython",
    "version": 3
   },
   "file_extension": ".py",
   "mimetype": "text/x-python",
   "name": "python",
   "nbconvert_exporter": "python",
   "pygments_lexer": "ipython3",
   "version": "3.8.5"
  }
 },
 "nbformat": 4,
 "nbformat_minor": 4
}
