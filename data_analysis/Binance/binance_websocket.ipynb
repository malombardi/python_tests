{
 "cells": [
  {
   "cell_type": "markdown",
   "metadata": {},
   "source": [
    "<h1>Using Binance web socket with Casandra to save the data.</h1>\n",
    "<h3>ETL to get, proces and save the crypto tickers data.</h3>"
   ]
  },
  {
   "cell_type": "code",
   "execution_count": 1,
   "metadata": {},
   "outputs": [],
   "source": [
    "import os\n",
    "from binance.client import Client\n",
    "from binance.websockets import BinanceSocketManager\n",
    "from twisted.internet import reactor\n",
    "import cassandra\n",
    "from cassandra.cluster import Cluster"
   ]
  },
  {
   "cell_type": "markdown",
   "metadata": {},
   "source": [
    "<h5>Initializing variables for Binance API</h5>"
   ]
  },
  {
   "cell_type": "code",
   "execution_count": 2,
   "metadata": {},
   "outputs": [],
   "source": [
    "api_key = os.environ.get('binance_test_api_key')\n",
    "api_secret = os.environ.get('binance_test_api_secret')\n",
    "client = Client(api_key, api_secret)\n",
    "client.API_URL = 'https://testnet.binance.vision/api'"
   ]
  },
  {
   "cell_type": "markdown",
   "metadata": {},
   "source": [
    "<h5>Get the symbols and use them to create Casandra's talbes.</h5>"
   ]
  },
  {
   "cell_type": "code",
   "execution_count": 3,
   "metadata": {},
   "outputs": [],
   "source": [
    "symbols = client.get_all_tickers()\n",
    "symbols_names = []\n",
    "\n",
    "for symbol in symbols:\n",
    "    symbols_names.append(str(symbol['symbol']))\n",
    "    "
   ]
  },
  {
   "cell_type": "markdown",
   "metadata": {},
   "source": [
    "<h5>Creation and connection to the keyspace and creation of the tables</h5>"
   ]
  },
  {
   "cell_type": "code",
   "execution_count": null,
   "metadata": {},
   "outputs": [],
   "source": [
    "cluster = Cluster([\"127.0.0.1\"])\n",
    "session = cluster.connect()\n",
    "session.execute(\"\"\"CREATE KEYSPACE IF NOT EXISTS binance \n",
    "    WITH REPLICATION = { 'class' : 'SimpleStrategy', 'replication_factor' : 1}\"\"\")\n",
    "session.set_keyspace('binance')\n",
    "\n",
    "#Itarate over symbols_names to create the corresponding table.\n",
    "for symbol_name in symbols_names:\n",
    "    query = \"\"\"CREATE TABLE IF NOT EXISTS {} (time int, close double, PRIMARY KEY (time))\"\"\".format(symbol_name)\n",
    "    session.execute(query)"
   ]
  },
  {
   "cell_type": "markdown",
   "metadata": {},
   "source": [
    "<h5>Callback method for the socket. Each ticker will be processed and inserted into the corresponding talbe</h5>"
   ]
  },
  {
   "cell_type": "code",
   "execution_count": null,
   "metadata": {},
   "outputs": [],
   "source": [
    "def trade_history(obj):\n",
    "    for msg in obj:\n",
    "        if msg['e'] != 'error':\n",
    "            insert_query = \"\"\"INSERT INTO {} (time, close) \\\n",
    "                 VALUES (%s, %s)\"\"\".format(msg['s'])\n",
    "            session.execute(insert_query, (msg['E'], msg['c']))"
   ]
  },
  {
   "cell_type": "markdown",
   "metadata": {},
   "source": [
    "<h5>Start the socket and wait for the callback to be executed.</h5>"
   ]
  },
  {
   "cell_type": "code",
   "execution_count": null,
   "metadata": {},
   "outputs": [],
   "source": [
    "bsm = BinanceSocketManager(client)\n",
    "ticker_socket = bsm.start_ticker_socket(trade_history)\n",
    "bsm.start()"
   ]
  },
  {
   "cell_type": "markdown",
   "metadata": {},
   "source": [
    "<h5>Finally stop the socket and shutdown the conection to Casandra</h5>"
   ]
  },
  {
   "cell_type": "code",
   "execution_count": null,
   "metadata": {},
   "outputs": [],
   "source": [
    "# stop websocket\n",
    "bsm.stop_socket(ticker_socket)\n",
    "# properly terminate WebSocket\n",
    "reactor.stop()\n",
    "session.shutdown()\n",
    "cluster.shutdown()"
   ]
  },
  {
   "cell_type": "code",
   "execution_count": null,
   "metadata": {},
   "outputs": [],
   "source": []
  }
 ],
 "metadata": {
  "kernelspec": {
   "display_name": "kernel_36",
   "language": "python",
   "name": "kernel_36"
  },
  "language_info": {
   "codemirror_mode": {
    "name": "ipython",
    "version": 3
   },
   "file_extension": ".py",
   "mimetype": "text/x-python",
   "name": "python",
   "nbconvert_exporter": "python",
   "pygments_lexer": "ipython3",
   "version": "3.6.12"
  }
 },
 "nbformat": 4,
 "nbformat_minor": 4
}
