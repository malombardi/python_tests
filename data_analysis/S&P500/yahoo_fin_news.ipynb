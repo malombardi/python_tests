{
 "cells": [
  {
   "cell_type": "code",
   "execution_count": 2,
   "metadata": {},
   "outputs": [],
   "source": [
    "from yahoo_fin import news\n",
    " \n",
    "the_news = news.get_yf_rss(\"nflx\")"
   ]
  },
  {
   "cell_type": "code",
   "execution_count": 3,
   "metadata": {},
   "outputs": [
    {
     "data": {
      "text/plain": [
       "{'summary': 'The hot crypto market \"actually does resemble a casino\" to investors, Gundlach told Yahoo Finance.',\n",
       " 'summary_detail': {'type': 'text/html',\n",
       "  'language': None,\n",
       "  'base': 'https://feeds.finance.yahoo.com/rss/2.0/headline?s=nflx&region=US&lang=en-US',\n",
       "  'value': 'The hot crypto market \"actually does resemble a casino\" to investors, Gundlach told Yahoo Finance.'},\n",
       " 'id': '5c80e4d4-0da4-4bf6-a516-e7385af8e172',\n",
       " 'guidislink': False,\n",
       " 'links': [{'rel': 'alternate',\n",
       "   'type': 'text/html',\n",
       "   'href': 'https://finance.yahoo.com/news/gundlach-on-bitcoin-and-cryptocurrencies-180710683.html?.tsrc=rss'}],\n",
       " 'link': 'https://finance.yahoo.com/news/gundlach-on-bitcoin-and-cryptocurrencies-180710683.html?.tsrc=rss',\n",
       " 'published': 'Fri, 14 May 2021 18:07:10 +0000',\n",
       " 'published_parsed': time.struct_time(tm_year=2021, tm_mon=5, tm_mday=14, tm_hour=18, tm_min=7, tm_sec=10, tm_wday=4, tm_yday=134, tm_isdst=0),\n",
       " 'title': \"Gundlach: Bitcoin, crypto 'poster child' of speculative, 'funny money' market\",\n",
       " 'title_detail': {'type': 'text/plain',\n",
       "  'language': None,\n",
       "  'base': 'https://feeds.finance.yahoo.com/rss/2.0/headline?s=nflx&region=US&lang=en-US',\n",
       "  'value': \"Gundlach: Bitcoin, crypto 'poster child' of speculative, 'funny money' market\"}}"
      ]
     },
     "execution_count": 3,
     "metadata": {},
     "output_type": "execute_result"
    }
   ],
   "source": [
    "the_news[0]"
   ]
  },
  {
   "cell_type": "code",
   "execution_count": null,
   "metadata": {},
   "outputs": [],
   "source": []
  }
 ],
 "metadata": {
  "kernelspec": {
   "display_name": "kernel_36",
   "language": "python",
   "name": "kernel_36"
  },
  "language_info": {
   "codemirror_mode": {
    "name": "ipython",
    "version": 3
   },
   "file_extension": ".py",
   "mimetype": "text/x-python",
   "name": "python",
   "nbconvert_exporter": "python",
   "pygments_lexer": "ipython3",
   "version": "3.6.12"
  }
 },
 "nbformat": 4,
 "nbformat_minor": 4
}
