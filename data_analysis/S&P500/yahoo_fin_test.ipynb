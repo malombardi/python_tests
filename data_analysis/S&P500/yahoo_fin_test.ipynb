{
 "cells": [
  {
   "cell_type": "markdown",
   "metadata": {},
   "source": [
    "#### I want to try this lib yahoo_fin"
   ]
  },
  {
   "cell_type": "code",
   "execution_count": 1,
   "metadata": {},
   "outputs": [],
   "source": [
    "import yahoo_fin.stock_info as si\n",
    "from yahoo_fin import options"
   ]
  },
  {
   "cell_type": "markdown",
   "metadata": {},
   "source": [
    "##### Get the thickers from different markets"
   ]
  },
  {
   "cell_type": "code",
   "execution_count": 2,
   "metadata": {},
   "outputs": [],
   "source": [
    "dow = si.tickers_dow(include_company_data = True)\n",
    "\n",
    "ftse_100 = si.tickers_ftse100(include_company_data = True)\n",
    "\n",
    "ftse_250 = si.tickers_ftse250(include_company_data = True)\n",
    "\n",
    "nasdaq = si.tickers_nasdaq(include_company_data = True)\n",
    "\n",
    "nifty_50 = si.tickers_nifty50(include_company_data = True)\n",
    "\n",
    "nifty_bank = si.tickers_niftybank()\n",
    "\n",
    "other = si.tickers_other(include_company_data = True)\n",
    "\n",
    "sp500 = si.tickers_sp500(include_company_data = True)"
   ]
  },
  {
   "cell_type": "markdown",
   "metadata": {},
   "source": [
    "##### Get some financials data"
   ]
  },
  {
   "cell_type": "code",
   "execution_count": 3,
   "metadata": {},
   "outputs": [],
   "source": [
    "income_statement = si.get_income_statement(\"amzn\")\n",
    " \n",
    "balance_sheet = si.get_balance_sheet(\"amzn\")\n",
    " \n",
    "cash_flow = si.get_cash_flow(\"amzn\")"
   ]
  },
  {
   "cell_type": "markdown",
   "metadata": {},
   "source": [
    "##### Get major holders"
   ]
  },
  {
   "cell_type": "code",
   "execution_count": 4,
   "metadata": {},
   "outputs": [],
   "source": [
    "holders = si.get_holders(\"amzn\")"
   ]
  },
  {
   "cell_type": "markdown",
   "metadata": {},
   "source": [
    "##### Get some analysts data"
   ]
  },
  {
   "cell_type": "code",
   "execution_count": 5,
   "metadata": {},
   "outputs": [],
   "source": [
    "analysts_data = si.get_analysts_info(\"amzn\")"
   ]
  },
  {
   "cell_type": "markdown",
   "metadata": {},
   "source": [
    "##### Get Options"
   ]
  },
  {
   "cell_type": "code",
   "execution_count": 6,
   "metadata": {},
   "outputs": [],
   "source": [
    "nflx_dates = options.get_expiration_dates(\"nflx\")\n",
    "chain = options.get_options_chain(\"nflx\")\n",
    "calls = options.get_calls(\"nflx\")\n",
    "puts = options.get_puts(\"nflx\")"
   ]
  },
  {
   "cell_type": "code",
   "execution_count": 7,
   "metadata": {},
   "outputs": [],
   "source": [
    "dow_tickers = si.tickers_dow()\n",
    " \n",
    "# replace DOW with DWDP in ticker list\n",
    "dow_tickers.remove(\"DOW\")\n",
    "dow_tickers.append(\"DWDP\")\n",
    " \n",
    "# scrape the options data for each Dow ticker\n",
    "dow_data = {}\n",
    "for ticker in dow_tickers:\n",
    "    try:\n",
    "        dow_data[ticker] = options.get_options_chain(ticker)\n",
    "    except Exception:\n",
    "        print(ticker + \" failed\")"
   ]
  },
  {
   "cell_type": "code",
   "execution_count": null,
   "metadata": {},
   "outputs": [],
   "source": []
  }
 ],
 "metadata": {
  "kernelspec": {
   "display_name": "kernel_36",
   "language": "python",
   "name": "kernel_36"
  },
  "language_info": {
   "codemirror_mode": {
    "name": "ipython",
    "version": 3
   },
   "file_extension": ".py",
   "mimetype": "text/x-python",
   "name": "python",
   "nbconvert_exporter": "python",
   "pygments_lexer": "ipython3",
   "version": "3.6.12"
  }
 },
 "nbformat": 4,
 "nbformat_minor": 4
}
