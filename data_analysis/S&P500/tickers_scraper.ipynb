{
 "cells": [
  {
   "cell_type": "markdown",
   "metadata": {},
   "source": [
    "<h3>Scrap wikipedia to get the tickers</h3>"
   ]
  },
  {
   "cell_type": "code",
   "execution_count": 1,
   "metadata": {},
   "outputs": [],
   "source": [
    "import time\n",
    "from bs4 import BeautifulSoup\n",
    "import requests_html\n",
    "import pandas as pd\n",
    "import psycopg2\n",
    "import yfinance as yf"
   ]
  },
  {
   "cell_type": "markdown",
   "metadata": {},
   "source": [
    "**IF THE FILE NAMED 'tickers.csv' DOESN'T EXISTS PROCEED WITH THIS CELL, ELSE GO TO THE NEXT**"
   ]
  },
  {
   "cell_type": "code",
   "execution_count": null,
   "metadata": {},
   "outputs": [],
   "source": [
    "wikipedia_url = 'https://en.wikipedia.org/wiki/List_of_S%26P_500_companies'\n",
    "\n",
    "df_sp_500 = pd.read_html(wikipedia_url)[0]\n",
    "\n",
    "df_sp_500 = df_sp_500.rename(columns={'Security':'Name'})\n",
    "df_sp_500 = df_sp_500.drop(columns=['SEC filings', \n",
    "                      'CIK', \n",
    "                      'Date first added', \n",
    "                      'Founded', \n",
    "                      'Headquarters Location', \n",
    "                      'GICS Sector', \n",
    "                      'GICS Sub-Industry' ])\n",
    "\n",
    "df_nasdaq = pd.read_csv('nasdaq.csv')\n",
    "df_nasdaq = df_nasdaq.drop(columns=['Last Sale', \n",
    "                                    'Net Change', \n",
    "                                    '% Change', \n",
    "                                    'Market Cap', \n",
    "                                    'Country', \n",
    "                                    'IPO Year', \n",
    "                                    'Volume', \n",
    "                                    'Sector', \n",
    "                                    'Industry'])\n",
    "\n",
    "df_tickers = pd.concat([df_sp_500, df_nasdaq])\n",
    "df_tickers.sort_values(\"Symbol\", inplace=True)\n",
    "df_tickers.drop_duplicates(keep=False,inplace=True)\n",
    "df_tickers.to_csv('tickers.csv', index=False)"
   ]
  },
  {
   "cell_type": "markdown",
   "metadata": {},
   "source": [
    "Having the file with the tickers read it into a df and get the info from YF"
   ]
  },
  {
   "cell_type": "code",
   "execution_count": 2,
   "metadata": {},
   "outputs": [],
   "source": [
    "all_tickers_df = pd.read_csv('tickers.csv')\n",
    "all_tickers = pd.Series(all_tickers_df['Symbol'])\n",
    "all_tickers.unique()\n",
    "all_tickers = set(all_tickers)"
   ]
  },
  {
   "cell_type": "code",
   "execution_count": 3,
   "metadata": {},
   "outputs": [],
   "source": [
    "conn = psycopg2.connect(\"host=127.0.0.1 dbname=tickers user=ticker password=ticker\")\n",
    "conn.set_session(autocommit=True)\n",
    "\n",
    "cur = conn.cursor()\n",
    "cur.execute(\"CREATE TABLE IF NOT EXISTS symbols (Symbol text PRIMARY KEY, Name text, Sector text, Industry text, Currency text, Volume int, TimeZone text, Market text);\")\n",
    "cur.execute(\"CREATE TABLE IF NOT EXISTS symbols_processed (Symbol text PRIMARY KEY);\")\n",
    "\n",
    "symbols_processed = set()\n",
    "cur.execute(\"SELECT Symbol FROM symbols_processed\")\n",
    "row = cur.fetchone()\n",
    "while row:\n",
    "    symbols_processed.add(row[0])\n",
    "    row = cur.fetchone()"
   ]
  },
  {
   "cell_type": "code",
   "execution_count": 4,
   "metadata": {},
   "outputs": [
    {
     "name": "stdout",
     "output_type": "stream",
     "text": [
      "All tickers: 7652\n",
      "Processed tickers: 0\n",
      "Remaining tickers: 7652\n"
     ]
    }
   ],
   "source": [
    "remaining_symbols = all_tickers.difference(symbols_processed)\n",
    "print(\"All tickers: \" + str(len(all_tickers)))\n",
    "print(\"Processed tickers: \" + str(len(symbols_processed)))\n",
    "print(\"Remaining tickers: \" + str(len(remaining_symbols)))"
   ]
  },
  {
   "cell_type": "code",
   "execution_count": 5,
   "metadata": {},
   "outputs": [],
   "source": [
    "def insert_into_db(data) :\n",
    "    try :\n",
    "        cur.execute(\"INSERT INTO symbols (Symbol, Name, Sector, Industry, Currency, Volume, TimeZone, Market) \\\n",
    "                     VALUES (%s, %s, %s, %s, %s, %s, %s, %s)\", \\\n",
    "                     (data['symbol'], data['name'], data['sector'], data['industry'], data['currency'], data['volume'], data['exchangeTimezoneShortName'], data['market']))\n",
    "    except psycopg2.Error as e:\n",
    "        print(f'NOT INSERTED: {data}')\n",
    "        print(\"Error inserting values\")\n",
    "        print(e)"
   ]
  },
  {
   "cell_type": "code",
   "execution_count": 6,
   "metadata": {},
   "outputs": [],
   "source": [
    "def insert_into_processed(symbol) :\n",
    "    try :\n",
    "        cur.execute(\"INSERT INTO symbols_processed (Symbol) \\\n",
    "                     VALUES (%s)\", \\\n",
    "                     (symbol,))\n",
    "    except psycopg2.Error as e:\n",
    "        print(\"Error inserting symbol\")\n",
    "        print(e)"
   ]
  },
  {
   "cell_type": "code",
   "execution_count": 7,
   "metadata": {},
   "outputs": [],
   "source": [
    "def populate_info(symbol) :\n",
    "    try :\n",
    "        tick = yf.Ticker(symbol).info\n",
    "        tick_info = {}\n",
    "        tick_info['symbol'] = symbol\n",
    "\n",
    "        if 'shortName' in tick :\n",
    "            tick_info['name'] = tick['shortName']\n",
    "        else :\n",
    "            print(f'Populate info RETURN: {symbol}')\n",
    "            return\n",
    "        if 'sector' in tick :\n",
    "            tick_info['sector'] = tick['sector']\n",
    "        else :\n",
    "            tick_info['sector'] = None\n",
    "        if 'industry' in tick :\n",
    "            tick_info['industry'] = tick['industry']\n",
    "        else :\n",
    "            tick_info['industry'] = None\n",
    "        if 'volume' in tick :\n",
    "            tick_info['volume'] = tick['volume']\n",
    "        else : \n",
    "             tick_info['volume'] = None\n",
    "        if 'shortName' in tick :\n",
    "            tick_info['shortName'] = tick['shortName']\n",
    "        else :\n",
    "            tick_info['shortName'] = None\n",
    "        if 'exchangeTimezoneShortName' in tick :\n",
    "            tick_info['exchangeTimezoneShortName'] = tick['exchangeTimezoneShortName']\n",
    "        else :\n",
    "            tick_info['exchangeTimezoneShortName'] = None\n",
    "        if 'market' in tick :\n",
    "            tick_info['market'] = tick['market']\n",
    "        else :\n",
    "            tick_info['market'] = None\n",
    "        if 'currency' in tick :\n",
    "            tick_info['currency'] = tick['currency']\n",
    "        else :\n",
    "            tick_info['currency'] = None\n",
    "\n",
    "        insert_into_db(tick_info)\n",
    "    except ValueError as e :\n",
    "        print(\"error processing {}\".format(symbol))\n",
    "    finally :\n",
    "        insert_into_processed(symbol)\n",
    "        symbols_processed.add(symbol)"
   ]
  },
  {
   "cell_type": "code",
   "execution_count": null,
   "metadata": {},
   "outputs": [],
   "source": [
    "for ticker in remaining_symbols :\n",
    "    symbol = ticker.replace(\".\",\"-\")\n",
    "    symbol = symbol.split(\"^\")[0]\n",
    "    if symbol not in symbols_processed :\n",
    "        populate_info(symbol)"
   ]
  },
  {
   "cell_type": "code",
   "execution_count": null,
   "metadata": {},
   "outputs": [],
   "source": [
    "cur.execute(\"SELECT * FROM symbols\")\n",
    "row = cur.fetchone()\n",
    "sectors = []\n",
    "while row:\n",
    "    sectors.append(row)\n",
    "    print(row)\n",
    "    row = cur.fetchone()"
   ]
  },
  {
   "cell_type": "code",
   "execution_count": null,
   "metadata": {},
   "outputs": [],
   "source": [
    "cur.execute(\"SELECT Sector, count(1) as c FROM symbols GROUP BY Sector ORDER BY c DESC\")\n",
    "row = cur.fetchone()\n",
    "sectors = []\n",
    "while row:\n",
    "    sectors.append(row[0])\n",
    "    print(row)\n",
    "    row = cur.fetchone()"
   ]
  },
  {
   "cell_type": "code",
   "execution_count": null,
   "metadata": {},
   "outputs": [],
   "source": [
    "cur.execute(\"DROP TABLE symbols\")\n",
    "cur.execute(\"DROP TABLE symbols_processed\")\n",
    "cur.close()\n",
    "conn.close()"
   ]
  },
  {
   "cell_type": "code",
   "execution_count": null,
   "metadata": {},
   "outputs": [],
   "source": []
  }
 ],
 "metadata": {
  "kernelspec": {
   "display_name": "kernel_36",
   "language": "python",
   "name": "kernel_36"
  },
  "language_info": {
   "codemirror_mode": {
    "name": "ipython",
    "version": 3
   },
   "file_extension": ".py",
   "mimetype": "text/x-python",
   "name": "python",
   "nbconvert_exporter": "python",
   "pygments_lexer": "ipython3",
   "version": "3.6.12"
  }
 },
 "nbformat": 4,
 "nbformat_minor": 4
}
