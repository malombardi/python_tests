{
 "cells": [
  {
   "cell_type": "markdown",
   "metadata": {},
   "source": [
    "#### I'll use yahoo_fin lib to get all the tickers and the history data"
   ]
  },
  {
   "cell_type": "code",
   "execution_count": 1,
   "metadata": {},
   "outputs": [],
   "source": [
    "import yahoo_fin.stock_info as si\n",
    "import pandas as pd\n",
    "import numpy as np"
   ]
  },
  {
   "cell_type": "code",
   "execution_count": 2,
   "metadata": {},
   "outputs": [],
   "source": [
    "dow = si.tickers_dow(include_company_data = True)\n",
    "\n",
    "ftse_100 = si.tickers_ftse100(include_company_data = True)\n",
    "\n",
    "ftse_250 = si.tickers_ftse250(include_company_data = True)\n",
    "\n",
    "nasdaq = si.tickers_nasdaq(include_company_data = True)\n",
    "\n",
    "nifty_50 = si.tickers_nifty50(include_company_data = True)\n",
    "\n",
    "other = si.tickers_other(include_company_data = True)\n",
    "\n",
    "sp500 = si.tickers_sp500(include_company_data = True)"
   ]
  },
  {
   "cell_type": "markdown",
   "metadata": {},
   "source": [
    "##### Filter and create one DF with all symbols and company name"
   ]
  },
  {
   "cell_type": "code",
   "execution_count": null,
   "metadata": {},
   "outputs": [],
   "source": [
    "dow_tickers_df = dow[['Company', 'Symbol']]\n",
    "\n",
    "ftse_100_tickers_df = ftse_100[['Company','EPIC']]\n",
    "ftse_100_tickers_df.columns = ['Company','Symbol']\n",
    "\n",
    "ftse_250_tickers_df = ftse_250\n",
    "ftse_250_tickers_df.columns = ['Company','Symbol']\n",
    "\n",
    "nasdaq_tickers_df = nasdaq[['Security Name','Symbol']]\n",
    "nasdaq_tickers_df.columns = ['Company','Symbol']\n",
    "\n",
    "nifty_50_tickers_df = nifty_50[['Company Name','Symbol']]\n",
    "nifty_50_tickers_df.columns = ['Company','Symbol']\n",
    "\n",
    "other_tickers_df = other[['Security Name','ACT Symbol']]\n",
    "other_tickers_df.columns = ['Company','Symbol']\n",
    "\n",
    "sp500_tickers_df = sp500[['Security','Symbol']]\n",
    "sp500_tickers_df.columns = ['Company','Symbol']\n",
    "\n",
    "tickers_df = pd.concat([dow_tickers_df, ftse_100_tickers_df, ftse_250_tickers_df, nasdaq_tickers_df, nifty_50_tickers_df, other_tickers_df, sp500_tickers_df], ignore_index=True)"
   ]
  },
  {
   "cell_type": "code",
   "execution_count": null,
   "metadata": {},
   "outputs": [],
   "source": [
    "tickers_df.to_csv('all_tickers_v2.csv', index = False)"
   ]
  },
  {
   "cell_type": "markdown",
   "metadata": {},
   "source": [
    "##### Now that I have the tickers I'll fetch the historical data"
   ]
  },
  {
   "cell_type": "code",
   "execution_count": null,
   "metadata": {},
   "outputs": [],
   "source": [
    "ticker_lst =  tickers_df['Symbol'].tolist()\n",
    "historical_df = pd.DataFrame()\n",
    "tickers_no_processed = []\n",
    "\n",
    "for ticker in ticker_lst :\n",
    "    try : \n",
    "        historical = si.get_data(ticker, index_as_date = True, interval = \"1d\")\n",
    "        df = pd.DataFrame(historical, columns = ['close'])\n",
    "        df.columns = [ticker]\n",
    "        historical_df = pd.concat([historical_df, df], axis=1)\n",
    "    except AssertionError :\n",
    "        tickers_no_processed.append(ticker)\n",
    "        print(f'{ticker} not processed')\n",
    "    except KeyError :\n",
    "        tickers_no_processed.append(ticker)\n",
    "        print(f'{ticker} not processed')\n",
    "    except TypeError :\n",
    "        tickers_no_processed.append(ticker)\n",
    "        print(f'{ticker} not processed')\n",
    "        "
   ]
  },
  {
   "cell_type": "markdown",
   "metadata": {},
   "source": [
    "##### Some tickers weren't processed. Looking some of them needs to end with \".L\""
   ]
  },
  {
   "cell_type": "code",
   "execution_count": null,
   "metadata": {},
   "outputs": [],
   "source": [
    "tickers_no_processed_new = []\n",
    "for ticker in tickers_no_processed :\n",
    "    try : \n",
    "        ticker = ticker + \".L\"\n",
    "        historical = si.get_data(ticker, index_as_date = True, interval = \"1d\")\n",
    "        df = pd.DataFrame(historical, columns = ['close'])\n",
    "        df.columns = [ticker]\n",
    "        historical_df = pd.concat([historical_df, df], axis=1)\n",
    "    except AssertionError :\n",
    "        tickers_no_processed_new.append(ticker)\n",
    "        print(f'{ticker} not processed')\n",
    "    except KeyError :\n",
    "        tickers_no_processed_new.append(ticker)\n",
    "        print(f'{ticker} not processed')\n",
    "    except TypeError :\n",
    "        tickers_no_processed_new.append(ticker)\n",
    "        print(f'{ticker} not processed')"
   ]
  },
  {
   "cell_type": "code",
   "execution_count": null,
   "metadata": {},
   "outputs": [],
   "source": [
    "df = pd.DataFrame(historyc, columns = ['close'])\n",
    "df.columns = ['MMM']\n",
    "print(df)"
   ]
  },
  {
   "cell_type": "code",
   "execution_count": null,
   "metadata": {},
   "outputs": [],
   "source": [
    "historyc"
   ]
  },
  {
   "cell_type": "code",
   "execution_count": null,
   "metadata": {},
   "outputs": [],
   "source": []
  }
 ],
 "metadata": {
  "kernelspec": {
   "display_name": "Python 3",
   "language": "python",
   "name": "python3"
  },
  "language_info": {
   "codemirror_mode": {
    "name": "ipython",
    "version": 3
   },
   "file_extension": ".py",
   "mimetype": "text/x-python",
   "name": "python",
   "nbconvert_exporter": "python",
   "pygments_lexer": "ipython3",
   "version": "3.6.13"
  }
 },
 "nbformat": 4,
 "nbformat_minor": 4
}
