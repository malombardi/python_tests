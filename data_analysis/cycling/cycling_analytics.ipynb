{
 "cells": [
  {
   "cell_type": "markdown",
   "metadata": {},
   "source": [
    "##### On this file I'll use my own data from Garmin to analize my trainigs\n",
    "\n",
    "###### The csv file is on data folder. It contains the activities that I log with my Garmin Edge 520."
   ]
  },
  {
   "cell_type": "markdown",
   "metadata": {},
   "source": [
    "##### **First the imports**"
   ]
  },
  {
   "cell_type": "code",
   "execution_count": 1,
   "metadata": {},
   "outputs": [],
   "source": [
    "import pandas as pd\n",
    "import numpy as np\n",
    "import matplotlib.pyplot as plt\n",
    "import math"
   ]
  },
  {
   "cell_type": "markdown",
   "metadata": {},
   "source": [
    "##### **Read the csv into a DataFrame**"
   ]
  },
  {
   "cell_type": "code",
   "execution_count": 2,
   "metadata": {},
   "outputs": [],
   "source": [
    "df = pd.read_csv('data/Activities.csv')"
   ]
  },
  {
   "cell_type": "markdown",
   "metadata": {},
   "source": [
    "###### **See how it looks**"
   ]
  },
  {
   "cell_type": "code",
   "execution_count": 3,
   "metadata": {},
   "outputs": [
    {
     "data": {
      "text/html": [
       "<div>\n",
       "<style scoped>\n",
       "    .dataframe tbody tr th:only-of-type {\n",
       "        vertical-align: middle;\n",
       "    }\n",
       "\n",
       "    .dataframe tbody tr th {\n",
       "        vertical-align: top;\n",
       "    }\n",
       "\n",
       "    .dataframe thead th {\n",
       "        text-align: right;\n",
       "    }\n",
       "</style>\n",
       "<table border=\"1\" class=\"dataframe\">\n",
       "  <thead>\n",
       "    <tr style=\"text-align: right;\">\n",
       "      <th></th>\n",
       "      <th>Tipo de actividad</th>\n",
       "      <th>Fecha</th>\n",
       "      <th>Favorito</th>\n",
       "      <th>Título</th>\n",
       "      <th>Distancia</th>\n",
       "      <th>Calorías</th>\n",
       "      <th>Tiempo</th>\n",
       "      <th>Frecuencia cardiaca media</th>\n",
       "      <th>Frecuencia cardiaca máxima</th>\n",
       "      <th>Velocidad media</th>\n",
       "      <th>...</th>\n",
       "      <th>Fluidez</th>\n",
       "      <th>Brazadas totales</th>\n",
       "      <th>Tiempo de ascenso</th>\n",
       "      <th>Duración de la inmersión</th>\n",
       "      <th>Temperatura mínima</th>\n",
       "      <th>Intervalo en superficie</th>\n",
       "      <th>Descompresión</th>\n",
       "      <th>Mejor tiempo de vuelta</th>\n",
       "      <th>Número de vueltas</th>\n",
       "      <th>Temperatura máxima</th>\n",
       "    </tr>\n",
       "  </thead>\n",
       "  <tbody>\n",
       "    <tr>\n",
       "      <th>0</th>\n",
       "      <td>Ciclismo en ruta</td>\n",
       "      <td>2020-12-07 18:00:03</td>\n",
       "      <td>False</td>\n",
       "      <td>CTS Test</td>\n",
       "      <td>36,99</td>\n",
       "      <td>934.000</td>\n",
       "      <td>01:25:03</td>\n",
       "      <td>149</td>\n",
       "      <td>178</td>\n",
       "      <td>26,1</td>\n",
       "      <td>...</td>\n",
       "      <td>0,0</td>\n",
       "      <td>6837</td>\n",
       "      <td>1:25:03</td>\n",
       "      <td>0:00</td>\n",
       "      <td>22,0</td>\n",
       "      <td>0:00</td>\n",
       "      <td>No</td>\n",
       "      <td>08:00.28</td>\n",
       "      <td>5</td>\n",
       "      <td>0,0</td>\n",
       "    </tr>\n",
       "    <tr>\n",
       "      <th>1</th>\n",
       "      <td>Ciclismo en ruta</td>\n",
       "      <td>2020-12-05 16:20:28</td>\n",
       "      <td>False</td>\n",
       "      <td>EM</td>\n",
       "      <td>20,03</td>\n",
       "      <td>562.000</td>\n",
       "      <td>00:55:00</td>\n",
       "      <td>140</td>\n",
       "      <td>156</td>\n",
       "      <td>21,8</td>\n",
       "      <td>...</td>\n",
       "      <td>0,0</td>\n",
       "      <td>4344</td>\n",
       "      <td>55:00</td>\n",
       "      <td>0:00</td>\n",
       "      <td>22,0</td>\n",
       "      <td>0:00</td>\n",
       "      <td>No</td>\n",
       "      <td>54:59.64</td>\n",
       "      <td>1</td>\n",
       "      <td>0,0</td>\n",
       "    </tr>\n",
       "    <tr>\n",
       "      <th>2</th>\n",
       "      <td>Ciclismo en ruta</td>\n",
       "      <td>2020-12-02 18:21:34</td>\n",
       "      <td>False</td>\n",
       "      <td>EM</td>\n",
       "      <td>22,00</td>\n",
       "      <td>490.000</td>\n",
       "      <td>00:41:45</td>\n",
       "      <td>146</td>\n",
       "      <td>173</td>\n",
       "      <td>31,6</td>\n",
       "      <td>...</td>\n",
       "      <td>0,0</td>\n",
       "      <td>3640</td>\n",
       "      <td>41:45</td>\n",
       "      <td>0:00</td>\n",
       "      <td>18,0</td>\n",
       "      <td>0:00</td>\n",
       "      <td>No</td>\n",
       "      <td>41:45.50</td>\n",
       "      <td>1</td>\n",
       "      <td>0,0</td>\n",
       "    </tr>\n",
       "    <tr>\n",
       "      <th>3</th>\n",
       "      <td>Ciclismo en ruta</td>\n",
       "      <td>2020-12-01 18:07:50</td>\n",
       "      <td>False</td>\n",
       "      <td>SSI 4x12</td>\n",
       "      <td>52,87</td>\n",
       "      <td>1.245</td>\n",
       "      <td>01:49:32</td>\n",
       "      <td>146</td>\n",
       "      <td>166</td>\n",
       "      <td>29,0</td>\n",
       "      <td>...</td>\n",
       "      <td>0,0</td>\n",
       "      <td>9469</td>\n",
       "      <td>1:49:32</td>\n",
       "      <td>0:00</td>\n",
       "      <td>21,0</td>\n",
       "      <td>0:00</td>\n",
       "      <td>No</td>\n",
       "      <td>00:05.97</td>\n",
       "      <td>11</td>\n",
       "      <td>0,0</td>\n",
       "    </tr>\n",
       "    <tr>\n",
       "      <th>4</th>\n",
       "      <td>Ciclismo en ruta</td>\n",
       "      <td>2020-11-30 17:59:21</td>\n",
       "      <td>False</td>\n",
       "      <td>EM</td>\n",
       "      <td>42,30</td>\n",
       "      <td>1.004</td>\n",
       "      <td>01:27:09</td>\n",
       "      <td>139</td>\n",
       "      <td>161</td>\n",
       "      <td>29,1</td>\n",
       "      <td>...</td>\n",
       "      <td>0,0</td>\n",
       "      <td>7830</td>\n",
       "      <td>1:27:09</td>\n",
       "      <td>0:00</td>\n",
       "      <td>17,0</td>\n",
       "      <td>0:00</td>\n",
       "      <td>No</td>\n",
       "      <td>01:25.05</td>\n",
       "      <td>3</td>\n",
       "      <td>0,0</td>\n",
       "    </tr>\n",
       "  </tbody>\n",
       "</table>\n",
       "<p>5 rows × 34 columns</p>\n",
       "</div>"
      ],
      "text/plain": [
       "  Tipo de actividad                Fecha  Favorito    Título Distancia  \\\n",
       "0  Ciclismo en ruta  2020-12-07 18:00:03     False  CTS Test     36,99   \n",
       "1  Ciclismo en ruta  2020-12-05 16:20:28     False        EM     20,03   \n",
       "2  Ciclismo en ruta  2020-12-02 18:21:34     False        EM     22,00   \n",
       "3  Ciclismo en ruta  2020-12-01 18:07:50     False  SSI 4x12     52,87   \n",
       "4  Ciclismo en ruta  2020-11-30 17:59:21     False        EM     42,30   \n",
       "\n",
       "   Calorías    Tiempo Frecuencia cardiaca media Frecuencia cardiaca máxima  \\\n",
       "0   934.000  01:25:03                       149                        178   \n",
       "1   562.000  00:55:00                       140                        156   \n",
       "2   490.000  00:41:45                       146                        173   \n",
       "3     1.245  01:49:32                       146                        166   \n",
       "4     1.004  01:27:09                       139                        161   \n",
       "\n",
       "  Velocidad media  ... Fluidez Brazadas totales Tiempo de ascenso  \\\n",
       "0            26,1  ...     0,0             6837           1:25:03   \n",
       "1            21,8  ...     0,0             4344             55:00   \n",
       "2            31,6  ...     0,0             3640             41:45   \n",
       "3            29,0  ...     0,0             9469           1:49:32   \n",
       "4            29,1  ...     0,0             7830           1:27:09   \n",
       "\n",
       "  Duración de la inmersión Temperatura mínima Intervalo en superficie  \\\n",
       "0                     0:00               22,0                    0:00   \n",
       "1                     0:00               22,0                    0:00   \n",
       "2                     0:00               18,0                    0:00   \n",
       "3                     0:00               21,0                    0:00   \n",
       "4                     0:00               17,0                    0:00   \n",
       "\n",
       "  Descompresión Mejor tiempo de vuelta Número de vueltas Temperatura máxima  \n",
       "0            No               08:00.28                 5                0,0  \n",
       "1            No               54:59.64                 1                0,0  \n",
       "2            No               41:45.50                 1                0,0  \n",
       "3            No               00:05.97                11                0,0  \n",
       "4            No               01:25.05                 3                0,0  \n",
       "\n",
       "[5 rows x 34 columns]"
      ]
     },
     "execution_count": 3,
     "metadata": {},
     "output_type": "execute_result"
    }
   ],
   "source": [
    "df.head()"
   ]
  },
  {
   "cell_type": "markdown",
   "metadata": {},
   "source": [
    "###### There are a lot of columns that I don't need like the 'Titulo', 'Favorito'.... \n",
    "###### **Get the keys and drop them** "
   ]
  },
  {
   "cell_type": "code",
   "execution_count": 4,
   "metadata": {},
   "outputs": [
    {
     "data": {
      "text/plain": [
       "Index(['Tipo de actividad', 'Fecha', 'Favorito', 'Título', 'Distancia',\n",
       "       'Calorías', 'Tiempo', 'Frecuencia cardiaca media',\n",
       "       'Frecuencia cardiaca máxima', 'Velocidad media', 'Velocidad máxima',\n",
       "       'Ganancia de altura', 'Altura perdida', 'Longitud media de zancada',\n",
       "       'Relación vertical media', 'Oscilación vertical media',\n",
       "       'Cadencia media de pedaleo', 'Cadencia de pedaleo máxima',\n",
       "       'Normalized Power® (NP®)', 'Training Stress Score®',\n",
       "       'Potencia media máxima (20 minutos)', 'Potencia media',\n",
       "       'Potencia máxima', 'Dificultad', 'Fluidez', 'Brazadas totales',\n",
       "       'Tiempo de ascenso', 'Duración de la inmersión', 'Temperatura mínima',\n",
       "       'Intervalo en superficie', 'Descompresión', 'Mejor tiempo de vuelta',\n",
       "       'Número de vueltas', 'Temperatura máxima'],\n",
       "      dtype='object')"
      ]
     },
     "execution_count": 4,
     "metadata": {},
     "output_type": "execute_result"
    }
   ],
   "source": [
    "df.keys()"
   ]
  },
  {
   "cell_type": "code",
   "execution_count": 5,
   "metadata": {},
   "outputs": [],
   "source": [
    "df.drop(['Tipo de actividad', 'Favorito', 'Título', 'Distancia',\n",
    "       'Calorías', 'Frecuencia cardiaca media',\n",
    "       'Frecuencia cardiaca máxima', 'Velocidad media', 'Velocidad máxima',\n",
    "       'Ganancia de altura', 'Altura perdida', 'Longitud media de zancada',\n",
    "       'Relación vertical media', 'Oscilación vertical media',\n",
    "       'Cadencia media de pedaleo', 'Cadencia de pedaleo máxima', 'Training Stress Score®',\n",
    "       'Potencia media máxima (20 minutos)', 'Potencia media',\n",
    "       'Potencia máxima', 'Dificultad', 'Fluidez', 'Brazadas totales',\n",
    "       'Tiempo de ascenso', 'Duración de la inmersión', 'Temperatura mínima',\n",
    "       'Intervalo en superficie', 'Descompresión', 'Mejor tiempo de vuelta',\n",
    "       'Número de vueltas', 'Temperatura máxima'], inplace=True, axis=1)"
   ]
  },
  {
   "cell_type": "markdown",
   "metadata": {},
   "source": [
    "###### I started my trining on 2020-10-11. The 'Fecha' is stored as a string\n",
    "###### **Drop the rows before that date**"
   ]
  },
  {
   "cell_type": "code",
   "execution_count": 6,
   "metadata": {},
   "outputs": [],
   "source": [
    "df = df[df['Fecha'] > '2020-10-11 ']"
   ]
  },
  {
   "cell_type": "markdown",
   "metadata": {},
   "source": [
    "###### **Now I need to remove the time from the date**\n",
    "###### Will create a function for that because I'll need it later"
   ]
  },
  {
   "cell_type": "code",
   "execution_count": 7,
   "metadata": {},
   "outputs": [],
   "source": [
    "def remove_time_from_date(data_frame):\n",
    "    for i in range(data_frame.shape[0]):\n",
    "        data_frame['Fecha'][i] = data_frame['Fecha'][i].split(' ')[0]"
   ]
  },
  {
   "cell_type": "code",
   "execution_count": 8,
   "metadata": {},
   "outputs": [],
   "source": [
    "remove_time_from_date(df)"
   ]
  },
  {
   "cell_type": "markdown",
   "metadata": {},
   "source": [
    "###### **Now I can chage the 'Fecha' into a datetime**"
   ]
  },
  {
   "cell_type": "code",
   "execution_count": 9,
   "metadata": {},
   "outputs": [],
   "source": [
    "df['Fecha']= pd.to_datetime(df['Fecha'])"
   ]
  },
  {
   "cell_type": "markdown",
   "metadata": {},
   "source": [
    "###### **Do a rename and change type to numeric**"
   ]
  },
  {
   "cell_type": "code",
   "execution_count": 10,
   "metadata": {},
   "outputs": [],
   "source": [
    "df = df.rename(columns={'Normalized Power® (NP®)':'NP'})"
   ]
  },
  {
   "cell_type": "code",
   "execution_count": 11,
   "metadata": {},
   "outputs": [],
   "source": [
    "df['NP']= pd.to_numeric(df['NP'])"
   ]
  },
  {
   "cell_type": "markdown",
   "metadata": {},
   "source": [
    "###### **df doesn't contain all the dates from 2020-10-11. It only contains the dates that I've trained. I need another DataFrame that contains all the dates**"
   ]
  },
  {
   "cell_type": "code",
   "execution_count": 12,
   "metadata": {},
   "outputs": [],
   "source": [
    "begin_date = '2020-10-12'\n",
    "end_date = '2020-12-7' # This is the last date of my training\n",
    "df1 = pd.DataFrame({'Fecha':pd.date_range(begin_date, end_date)})"
   ]
  },
  {
   "cell_type": "markdown",
   "metadata": {},
   "source": [
    "###### **I'll merge df1 and df so I need to change the index**"
   ]
  },
  {
   "cell_type": "code",
   "execution_count": 13,
   "metadata": {},
   "outputs": [],
   "source": [
    "df1.set_index(\"Fecha\", inplace = True)\n",
    "df.set_index(\"Fecha\", inplace = True)"
   ]
  },
  {
   "cell_type": "code",
   "execution_count": 14,
   "metadata": {},
   "outputs": [],
   "source": [
    "df_merged = df1.merge(df, on='Fecha', how='left')"
   ]
  },
  {
   "cell_type": "code",
   "execution_count": 15,
   "metadata": {},
   "outputs": [
    {
     "data": {
      "text/html": [
       "<div>\n",
       "<style scoped>\n",
       "    .dataframe tbody tr th:only-of-type {\n",
       "        vertical-align: middle;\n",
       "    }\n",
       "\n",
       "    .dataframe tbody tr th {\n",
       "        vertical-align: top;\n",
       "    }\n",
       "\n",
       "    .dataframe thead th {\n",
       "        text-align: right;\n",
       "    }\n",
       "</style>\n",
       "<table border=\"1\" class=\"dataframe\">\n",
       "  <thead>\n",
       "    <tr style=\"text-align: right;\">\n",
       "      <th></th>\n",
       "      <th>Tiempo</th>\n",
       "      <th>NP</th>\n",
       "    </tr>\n",
       "    <tr>\n",
       "      <th>Fecha</th>\n",
       "      <th></th>\n",
       "      <th></th>\n",
       "    </tr>\n",
       "  </thead>\n",
       "  <tbody>\n",
       "    <tr>\n",
       "      <th>2020-10-12</th>\n",
       "      <td>00:57:26</td>\n",
       "      <td>191.0</td>\n",
       "    </tr>\n",
       "    <tr>\n",
       "      <th>2020-10-13</th>\n",
       "      <td>01:10:16</td>\n",
       "      <td>186.0</td>\n",
       "    </tr>\n",
       "    <tr>\n",
       "      <th>2020-10-14</th>\n",
       "      <td>NaN</td>\n",
       "      <td>NaN</td>\n",
       "    </tr>\n",
       "    <tr>\n",
       "      <th>2020-10-15</th>\n",
       "      <td>00:54:21</td>\n",
       "      <td>207.0</td>\n",
       "    </tr>\n",
       "    <tr>\n",
       "      <th>2020-10-16</th>\n",
       "      <td>00:07:40,1</td>\n",
       "      <td>279.0</td>\n",
       "    </tr>\n",
       "  </tbody>\n",
       "</table>\n",
       "</div>"
      ],
      "text/plain": [
       "                Tiempo     NP\n",
       "Fecha                        \n",
       "2020-10-12    00:57:26  191.0\n",
       "2020-10-13    01:10:16  186.0\n",
       "2020-10-14         NaN    NaN\n",
       "2020-10-15    00:54:21  207.0\n",
       "2020-10-16  00:07:40,1  279.0"
      ]
     },
     "execution_count": 15,
     "metadata": {},
     "output_type": "execute_result"
    }
   ],
   "source": [
    "df_merged.head()"
   ]
  },
  {
   "cell_type": "markdown",
   "metadata": {},
   "source": [
    "###### **I'll fill NaNs with 0 or 0:0:0 (for the 'Tiempo' column)**"
   ]
  },
  {
   "cell_type": "code",
   "execution_count": 16,
   "metadata": {},
   "outputs": [],
   "source": [
    "df_merged['NP']=df_merged['NP'].fillna(0)\n",
    "df_merged['Tiempo']=df_merged['Tiempo'].fillna('0:0:0')"
   ]
  },
  {
   "cell_type": "markdown",
   "metadata": {},
   "source": [
    "###### **I know that my FTP is 230, I'll create a new row df_merged with my current FTP**"
   ]
  },
  {
   "cell_type": "code",
   "execution_count": 17,
   "metadata": {},
   "outputs": [],
   "source": [
    "ftp = 230\n",
    "ftp_array=[]\n",
    "for i in range(df_merged.shape[0]):\n",
    "    ftp_array.append(230)"
   ]
  },
  {
   "cell_type": "code",
   "execution_count": 18,
   "metadata": {},
   "outputs": [],
   "source": [
    "df_merged['FTP'] = ftp_array"
   ]
  },
  {
   "cell_type": "code",
   "execution_count": 19,
   "metadata": {},
   "outputs": [
    {
     "data": {
      "text/html": [
       "<div>\n",
       "<style scoped>\n",
       "    .dataframe tbody tr th:only-of-type {\n",
       "        vertical-align: middle;\n",
       "    }\n",
       "\n",
       "    .dataframe tbody tr th {\n",
       "        vertical-align: top;\n",
       "    }\n",
       "\n",
       "    .dataframe thead th {\n",
       "        text-align: right;\n",
       "    }\n",
       "</style>\n",
       "<table border=\"1\" class=\"dataframe\">\n",
       "  <thead>\n",
       "    <tr style=\"text-align: right;\">\n",
       "      <th></th>\n",
       "      <th>Tiempo</th>\n",
       "      <th>NP</th>\n",
       "      <th>FTP</th>\n",
       "    </tr>\n",
       "    <tr>\n",
       "      <th>Fecha</th>\n",
       "      <th></th>\n",
       "      <th></th>\n",
       "      <th></th>\n",
       "    </tr>\n",
       "  </thead>\n",
       "  <tbody>\n",
       "    <tr>\n",
       "      <th>2020-10-12</th>\n",
       "      <td>00:57:26</td>\n",
       "      <td>191.0</td>\n",
       "      <td>230</td>\n",
       "    </tr>\n",
       "    <tr>\n",
       "      <th>2020-10-13</th>\n",
       "      <td>01:10:16</td>\n",
       "      <td>186.0</td>\n",
       "      <td>230</td>\n",
       "    </tr>\n",
       "    <tr>\n",
       "      <th>2020-10-14</th>\n",
       "      <td>0:0:0</td>\n",
       "      <td>0.0</td>\n",
       "      <td>230</td>\n",
       "    </tr>\n",
       "    <tr>\n",
       "      <th>2020-10-15</th>\n",
       "      <td>00:54:21</td>\n",
       "      <td>207.0</td>\n",
       "      <td>230</td>\n",
       "    </tr>\n",
       "    <tr>\n",
       "      <th>2020-10-16</th>\n",
       "      <td>00:07:40,1</td>\n",
       "      <td>279.0</td>\n",
       "      <td>230</td>\n",
       "    </tr>\n",
       "  </tbody>\n",
       "</table>\n",
       "</div>"
      ],
      "text/plain": [
       "                Tiempo     NP  FTP\n",
       "Fecha                             \n",
       "2020-10-12    00:57:26  191.0  230\n",
       "2020-10-13    01:10:16  186.0  230\n",
       "2020-10-14       0:0:0    0.0  230\n",
       "2020-10-15    00:54:21  207.0  230\n",
       "2020-10-16  00:07:40,1  279.0  230"
      ]
     },
     "execution_count": 19,
     "metadata": {},
     "output_type": "execute_result"
    }
   ],
   "source": [
    "df_merged.head()"
   ]
  },
  {
   "cell_type": "markdown",
   "metadata": {},
   "source": [
    "###### **I need NP as int**"
   ]
  },
  {
   "cell_type": "code",
   "execution_count": 20,
   "metadata": {},
   "outputs": [],
   "source": [
    "df_merged.NP = df_merged.NP.astype(int)"
   ]
  },
  {
   "cell_type": "markdown",
   "metadata": {},
   "source": [
    "##### Now the calculations :) "
   ]
  },
  {
   "cell_type": "markdown",
   "metadata": {},
   "source": [
    "**IntensityFactor is defined as NP/FTP on each ride**"
   ]
  },
  {
   "cell_type": "code",
   "execution_count": 23,
   "metadata": {},
   "outputs": [],
   "source": [
    "intensity_factor = df_merged.NP/df_merged.FTP\n",
    "df_merged['IF'] = intensity_factor"
   ]
  },
  {
   "cell_type": "markdown",
   "metadata": {},
   "source": [
    "**The TSS is calculated based on the time in seconds of each ride**\n",
    "###### The time ('Tiempo') is a string"
   ]
  },
  {
   "cell_type": "code",
   "execution_count": 24,
   "metadata": {},
   "outputs": [],
   "source": [
    "time_in_seconds=[]\n",
    "for i in range(df_merged.Tiempo.shape[0]):\n",
    "    splits = df_merged.Tiempo[i].split(':')\n",
    "    time_in_sec= int(splits[0])*3600+int(splits[1])*60+int(splits[2].split(',')[0])\n",
    "    time_in_seconds.append(time_in_sec)"
   ]
  },
  {
   "cell_type": "markdown",
   "metadata": {},
   "source": [
    "##### **Add the new row**"
   ]
  },
  {
   "cell_type": "code",
   "execution_count": 25,
   "metadata": {},
   "outputs": [],
   "source": [
    "df_merged['Seconds'] = time_in_seconds"
   ]
  },
  {
   "cell_type": "markdown",
   "metadata": {},
   "source": [
    "**Calculate the TSS**"
   ]
  },
  {
   "cell_type": "code",
   "execution_count": 26,
   "metadata": {},
   "outputs": [],
   "source": [
    "df_merged['TSS'] = (df_merged['Seconds']*df_merged['NP']*df_merged['IF'])/(df_merged['FTP']*3600)*100"
   ]
  },
  {
   "cell_type": "markdown",
   "metadata": {},
   "source": [
    "###### **Now I can drop 'Tiempo'**"
   ]
  },
  {
   "cell_type": "code",
   "execution_count": 27,
   "metadata": {},
   "outputs": [],
   "source": [
    "df_merged.drop(['Tiempo'], inplace=True, axis=1)"
   ]
  },
  {
   "cell_type": "code",
   "execution_count": 28,
   "metadata": {},
   "outputs": [
    {
     "data": {
      "text/html": [
       "<div>\n",
       "<style scoped>\n",
       "    .dataframe tbody tr th:only-of-type {\n",
       "        vertical-align: middle;\n",
       "    }\n",
       "\n",
       "    .dataframe tbody tr th {\n",
       "        vertical-align: top;\n",
       "    }\n",
       "\n",
       "    .dataframe thead th {\n",
       "        text-align: right;\n",
       "    }\n",
       "</style>\n",
       "<table border=\"1\" class=\"dataframe\">\n",
       "  <thead>\n",
       "    <tr style=\"text-align: right;\">\n",
       "      <th></th>\n",
       "      <th>NP</th>\n",
       "      <th>FTP</th>\n",
       "      <th>IF</th>\n",
       "      <th>Seconds</th>\n",
       "      <th>TSS</th>\n",
       "    </tr>\n",
       "    <tr>\n",
       "      <th>Fecha</th>\n",
       "      <th></th>\n",
       "      <th></th>\n",
       "      <th></th>\n",
       "      <th></th>\n",
       "      <th></th>\n",
       "    </tr>\n",
       "  </thead>\n",
       "  <tbody>\n",
       "    <tr>\n",
       "      <th>2020-10-12</th>\n",
       "      <td>191</td>\n",
       "      <td>230</td>\n",
       "      <td>0.830435</td>\n",
       "      <td>3446</td>\n",
       "      <td>66.012143</td>\n",
       "    </tr>\n",
       "    <tr>\n",
       "      <th>2020-10-13</th>\n",
       "      <td>186</td>\n",
       "      <td>230</td>\n",
       "      <td>0.808696</td>\n",
       "      <td>4216</td>\n",
       "      <td>76.589338</td>\n",
       "    </tr>\n",
       "    <tr>\n",
       "      <th>2020-10-14</th>\n",
       "      <td>0</td>\n",
       "      <td>230</td>\n",
       "      <td>0.000000</td>\n",
       "      <td>0</td>\n",
       "      <td>0.000000</td>\n",
       "    </tr>\n",
       "    <tr>\n",
       "      <th>2020-10-15</th>\n",
       "      <td>207</td>\n",
       "      <td>230</td>\n",
       "      <td>0.900000</td>\n",
       "      <td>3261</td>\n",
       "      <td>73.372500</td>\n",
       "    </tr>\n",
       "    <tr>\n",
       "      <th>2020-10-16</th>\n",
       "      <td>279</td>\n",
       "      <td>230</td>\n",
       "      <td>1.213043</td>\n",
       "      <td>460</td>\n",
       "      <td>18.802174</td>\n",
       "    </tr>\n",
       "  </tbody>\n",
       "</table>\n",
       "</div>"
      ],
      "text/plain": [
       "             NP  FTP        IF  Seconds        TSS\n",
       "Fecha                                             \n",
       "2020-10-12  191  230  0.830435     3446  66.012143\n",
       "2020-10-13  186  230  0.808696     4216  76.589338\n",
       "2020-10-14    0  230  0.000000        0   0.000000\n",
       "2020-10-15  207  230  0.900000     3261  73.372500\n",
       "2020-10-16  279  230  1.213043      460  18.802174"
      ]
     },
     "execution_count": 28,
     "metadata": {},
     "output_type": "execute_result"
    }
   ],
   "source": [
    "df_merged.head()"
   ]
  },
  {
   "cell_type": "markdown",
   "metadata": {},
   "source": [
    "##### **ATL is kown as 'Fatigue'**\n",
    "###### The formula is Today_ATL = ATL_from_yesterday * (e^(-1/7)) + Today_TSS * (1-e^(-1/7))"
   ]
  },
  {
   "cell_type": "code",
   "execution_count": 29,
   "metadata": {},
   "outputs": [],
   "source": [
    "atl=[]\n",
    "count = 0\n",
    "for i in reversed(df_merged.index):\n",
    "    yesterday_atl = 0\n",
    "    if (count!=0):\n",
    "        yesterday_atl = atl[count-1]\n",
    "    current_atl = yesterday_atl*math.exp(-1/7) + df_merged.iloc[count].TSS * (1-math.exp(-1/7))\n",
    "    atl.append(current_atl)\n",
    "    count+=1"
   ]
  },
  {
   "cell_type": "code",
   "execution_count": 32,
   "metadata": {},
   "outputs": [],
   "source": [
    "df_merged['Fatigue'] = atl"
   ]
  },
  {
   "cell_type": "markdown",
   "metadata": {},
   "source": [
    "##### **CTL is kown as 'Fitness'**\n",
    "###### The formula is Today_CTL = CTL_from_yesterday * (e^(-1/42)) + Today_TSS * (1-e^(-1/42))"
   ]
  },
  {
   "cell_type": "code",
   "execution_count": 35,
   "metadata": {},
   "outputs": [],
   "source": [
    "ctl=[]\n",
    "count = 0\n",
    "for i in reversed(df_merged.index):\n",
    "    yesterday_ctl = 0\n",
    "    if (count!=0):\n",
    "        yesterday_ctl = ctl[count-1]\n",
    "    current_ctl = yesterday_ctl*math.exp(-1/42) + df_merged.iloc[count].TSS * (1-math.exp(-1/42))\n",
    "    ctl.append(current_ctl)\n",
    "    count+=1"
   ]
  },
  {
   "cell_type": "code",
   "execution_count": 36,
   "metadata": {},
   "outputs": [],
   "source": [
    "df_merged['Fitness'] = ctl"
   ]
  },
  {
   "cell_type": "markdown",
   "metadata": {},
   "source": [
    "##### **TSB is kown as 'Freshness'**\n",
    "###### The formula is TSB = CTL - ATL"
   ]
  },
  {
   "cell_type": "code",
   "execution_count": 37,
   "metadata": {},
   "outputs": [],
   "source": [
    "df_merged['Freshness'] = df_merged.Fitness - df_merged.Fatigue"
   ]
  },
  {
   "cell_type": "code",
   "execution_count": 38,
   "metadata": {},
   "outputs": [
    {
     "data": {
      "text/html": [
       "<div>\n",
       "<style scoped>\n",
       "    .dataframe tbody tr th:only-of-type {\n",
       "        vertical-align: middle;\n",
       "    }\n",
       "\n",
       "    .dataframe tbody tr th {\n",
       "        vertical-align: top;\n",
       "    }\n",
       "\n",
       "    .dataframe thead th {\n",
       "        text-align: right;\n",
       "    }\n",
       "</style>\n",
       "<table border=\"1\" class=\"dataframe\">\n",
       "  <thead>\n",
       "    <tr style=\"text-align: right;\">\n",
       "      <th></th>\n",
       "      <th>NP</th>\n",
       "      <th>FTP</th>\n",
       "      <th>IF</th>\n",
       "      <th>Seconds</th>\n",
       "      <th>TSS</th>\n",
       "      <th>Fatigue</th>\n",
       "      <th>Fitness</th>\n",
       "      <th>Freshness</th>\n",
       "    </tr>\n",
       "    <tr>\n",
       "      <th>Fecha</th>\n",
       "      <th></th>\n",
       "      <th></th>\n",
       "      <th></th>\n",
       "      <th></th>\n",
       "      <th></th>\n",
       "      <th></th>\n",
       "      <th></th>\n",
       "      <th></th>\n",
       "    </tr>\n",
       "  </thead>\n",
       "  <tbody>\n",
       "    <tr>\n",
       "      <th>2020-10-12</th>\n",
       "      <td>191</td>\n",
       "      <td>230</td>\n",
       "      <td>0.830435</td>\n",
       "      <td>3446</td>\n",
       "      <td>66.012143</td>\n",
       "      <td>8.787675</td>\n",
       "      <td>1.553154</td>\n",
       "      <td>-7.234521</td>\n",
       "    </tr>\n",
       "    <tr>\n",
       "      <th>2020-10-13</th>\n",
       "      <td>186</td>\n",
       "      <td>230</td>\n",
       "      <td>0.808696</td>\n",
       "      <td>4216</td>\n",
       "      <td>76.589338</td>\n",
       "      <td>17.813575</td>\n",
       "      <td>3.318629</td>\n",
       "      <td>-14.494946</td>\n",
       "    </tr>\n",
       "    <tr>\n",
       "      <th>2020-10-14</th>\n",
       "      <td>0</td>\n",
       "      <td>230</td>\n",
       "      <td>0.000000</td>\n",
       "      <td>0</td>\n",
       "      <td>0.000000</td>\n",
       "      <td>15.442194</td>\n",
       "      <td>3.240547</td>\n",
       "      <td>-12.201647</td>\n",
       "    </tr>\n",
       "    <tr>\n",
       "      <th>2020-10-15</th>\n",
       "      <td>207</td>\n",
       "      <td>230</td>\n",
       "      <td>0.900000</td>\n",
       "      <td>3261</td>\n",
       "      <td>73.372500</td>\n",
       "      <td>23.153998</td>\n",
       "      <td>4.890634</td>\n",
       "      <td>-18.263364</td>\n",
       "    </tr>\n",
       "    <tr>\n",
       "      <th>2020-10-16</th>\n",
       "      <td>279</td>\n",
       "      <td>230</td>\n",
       "      <td>1.213043</td>\n",
       "      <td>460</td>\n",
       "      <td>18.802174</td>\n",
       "      <td>22.574674</td>\n",
       "      <td>5.217949</td>\n",
       "      <td>-17.356725</td>\n",
       "    </tr>\n",
       "    <tr>\n",
       "      <th>2020-10-16</th>\n",
       "      <td>207</td>\n",
       "      <td>230</td>\n",
       "      <td>0.900000</td>\n",
       "      <td>441</td>\n",
       "      <td>9.922500</td>\n",
       "      <td>20.890390</td>\n",
       "      <td>5.328639</td>\n",
       "      <td>-15.561751</td>\n",
       "    </tr>\n",
       "    <tr>\n",
       "      <th>2020-10-16</th>\n",
       "      <td>185</td>\n",
       "      <td>230</td>\n",
       "      <td>0.804348</td>\n",
       "      <td>3728</td>\n",
       "      <td>66.997900</td>\n",
       "      <td>27.028319</td>\n",
       "      <td>6.779613</td>\n",
       "      <td>-20.248706</td>\n",
       "    </tr>\n",
       "    <tr>\n",
       "      <th>2020-10-17</th>\n",
       "      <td>0</td>\n",
       "      <td>230</td>\n",
       "      <td>0.000000</td>\n",
       "      <td>0</td>\n",
       "      <td>0.000000</td>\n",
       "      <td>23.430252</td>\n",
       "      <td>6.620100</td>\n",
       "      <td>-16.810152</td>\n",
       "    </tr>\n",
       "    <tr>\n",
       "      <th>2020-10-18</th>\n",
       "      <td>166</td>\n",
       "      <td>230</td>\n",
       "      <td>0.721739</td>\n",
       "      <td>7187</td>\n",
       "      <td>103.993369</td>\n",
       "      <td>34.154984</td>\n",
       "      <td>8.911129</td>\n",
       "      <td>-25.243855</td>\n",
       "    </tr>\n",
       "    <tr>\n",
       "      <th>2020-10-19</th>\n",
       "      <td>0</td>\n",
       "      <td>230</td>\n",
       "      <td>0.000000</td>\n",
       "      <td>0</td>\n",
       "      <td>0.000000</td>\n",
       "      <td>29.608200</td>\n",
       "      <td>8.701465</td>\n",
       "      <td>-20.906735</td>\n",
       "    </tr>\n",
       "  </tbody>\n",
       "</table>\n",
       "</div>"
      ],
      "text/plain": [
       "             NP  FTP        IF  Seconds         TSS    Fatigue   Fitness  \\\n",
       "Fecha                                                                      \n",
       "2020-10-12  191  230  0.830435     3446   66.012143   8.787675  1.553154   \n",
       "2020-10-13  186  230  0.808696     4216   76.589338  17.813575  3.318629   \n",
       "2020-10-14    0  230  0.000000        0    0.000000  15.442194  3.240547   \n",
       "2020-10-15  207  230  0.900000     3261   73.372500  23.153998  4.890634   \n",
       "2020-10-16  279  230  1.213043      460   18.802174  22.574674  5.217949   \n",
       "2020-10-16  207  230  0.900000      441    9.922500  20.890390  5.328639   \n",
       "2020-10-16  185  230  0.804348     3728   66.997900  27.028319  6.779613   \n",
       "2020-10-17    0  230  0.000000        0    0.000000  23.430252  6.620100   \n",
       "2020-10-18  166  230  0.721739     7187  103.993369  34.154984  8.911129   \n",
       "2020-10-19    0  230  0.000000        0    0.000000  29.608200  8.701465   \n",
       "\n",
       "            Freshness  \n",
       "Fecha                  \n",
       "2020-10-12  -7.234521  \n",
       "2020-10-13 -14.494946  \n",
       "2020-10-14 -12.201647  \n",
       "2020-10-15 -18.263364  \n",
       "2020-10-16 -17.356725  \n",
       "2020-10-16 -15.561751  \n",
       "2020-10-16 -20.248706  \n",
       "2020-10-17 -16.810152  \n",
       "2020-10-18 -25.243855  \n",
       "2020-10-19 -20.906735  "
      ]
     },
     "execution_count": 38,
     "metadata": {},
     "output_type": "execute_result"
    }
   ],
   "source": [
    "df_merged.head(10)"
   ]
  },
  {
   "cell_type": "markdown",
   "metadata": {},
   "source": [
    "##### **Plot the values an see how it looks**"
   ]
  },
  {
   "cell_type": "code",
   "execution_count": 39,
   "metadata": {},
   "outputs": [
    {
     "data": {
      "image/png": "[encoded data removed]",
      "text/plain": [
       "<Figure size 1296x288 with 1 Axes>"
      ]
     },
     "metadata": {
      "needs_background": "light"
     },
     "output_type": "display_data"
    }
   ],
   "source": [
    "plt.figure(figsize=(18,4))\n",
    "plt.plot_date(df_merged.index, df_merged['Fitness'], '.-', label='Fitness')\n",
    "plt.plot_date(df_merged.index, df_merged['Fatigue'], '.-', label='Fatigue')\n",
    "plt.plot_date(df_merged.index, df_merged['Freshness'], '.-', label='Freshness')\n",
    "\n",
    "plt.legend(loc='upper left')\n",
    "\n",
    "plt.grid()\n",
    "plt.show()"
   ]
  },
  {
   "cell_type": "markdown",
   "metadata": {},
   "source": [
    "##### **I have multiple rides on a same day, I need to merge them into one day**"
   ]
  },
  {
   "cell_type": "code",
   "execution_count": 40,
   "metadata": {},
   "outputs": [
    {
     "name": "stderr",
     "output_type": "stream",
     "text": [
      "<ipython-input-40-8efbab4d98fa>:6: SettingWithCopyWarning: \n",
      "A value is trying to be set on a copy of a slice from a DataFrame\n",
      "\n",
      "See the caveats in the documentation: https://pandas.pydata.org/pandas-docs/stable/user_guide/indexing.html#returning-a-view-versus-a-copy\n",
      "  df_new['Fecha'][i] = df_new['Fecha'][i].split(' ')[0]\n"
     ]
    }
   ],
   "source": [
    "df_merged.reset_index(drop=False, inplace=True)\n",
    "aggregation_functions = {'Fecha': 'first','NP':'mean', 'FTP': 'first', 'IF':'mean', 'Seconds':'sum', 'TSS':'sum', 'Fatigue':'mean','Fitness':'mean','Freshness':'mean'}\n",
    "df_new = df_merged.groupby(df_merged['Fecha']).aggregate(aggregation_functions)\n",
    "df_new['Fecha'] = df_new['Fecha'].apply(lambda x: x.strftime('%Y-%m-%d'))\n",
    "for i in range(df_new.shape[0]):\n",
    "    df_new['Fecha'][i] = df_new['Fecha'][i].split(' ')[0]\n",
    "    \n",
    "df_new.reset_index(drop=True, inplace=True)"
   ]
  },
  {
   "cell_type": "markdown",
   "metadata": {},
   "source": [
    "##### **Plot the values again**"
   ]
  },
  {
   "cell_type": "code",
   "execution_count": 41,
   "metadata": {},
   "outputs": [
    {
     "data": {
      "image/png": "[encoded data removed]",
      "text/plain": [
       "<Figure size 1296x288 with 1 Axes>"
      ]
     },
     "metadata": {
      "needs_background": "light"
     },
     "output_type": "display_data"
    }
   ],
   "source": [
    "plt.figure(figsize=(18,4))\n",
    "plt.plot_date(df_new['Fecha'], df_new['Fitness'], '.-', label='Fitness')\n",
    "plt.plot_date(df_new['Fecha'], df_new['Fatigue'], '.-', label='Fatigue')\n",
    "plt.plot_date(df_new['Fecha'], df_new['Freshness'], '.-', label='Freshness')\n",
    "\n",
    "plt.legend(loc='upper left')\n",
    "x = range(df_new.shape[0])\n",
    "plt.xticks(x, df_new.Fecha)\n",
    "locs, labels = plt.xticks()\n",
    "plt.setp(labels, rotation=90)\n",
    "plt.grid()\n",
    "plt.show()"
   ]
  },
  {
   "cell_type": "markdown",
   "metadata": {},
   "source": [
    "**NICE....**"
   ]
  },
  {
   "cell_type": "code",
   "execution_count": null,
   "metadata": {},
   "outputs": [],
   "source": []
  }
 ],
 "metadata": {
  "kernelspec": {
   "display_name": "Python 3",
   "language": "python",
   "name": "python3"
  },
  "language_info": {
   "codemirror_mode": {
    "name": "ipython",
    "version": 3
   },
   "file_extension": ".py",
   "mimetype": "text/x-python",
   "name": "python",
   "nbconvert_exporter": "python",
   "pygments_lexer": "ipython3",
   "version": "3.6.12"
  }
 },
 "nbformat": 4,
 "nbformat_minor": 4
}
