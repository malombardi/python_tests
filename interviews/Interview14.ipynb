{
 "cells": [
  {
   "cell_type": "markdown",
   "metadata": {},
   "source": [
    "##### Hi, here's your problem today. This problem was recently asked by AirBNB:\n",
    "\n",
    "##### Given two strings, determine the edit distance between them. The edit distance is defined as the minimum number of edits (insertion, deletion, or substitution) needed to change one string to the other.\n",
    "\n",
    "##### For example, \"biting\" and \"sitting\" have an edit distance of 2 (substitute b for s, and insert a t).\n"
   ]
  },
  {
   "cell_type": "code",
   "execution_count": 1,
   "metadata": {},
   "outputs": [],
   "source": [
    "def distance(s1, s2):\n",
    "    distance = 0\n",
    "    axu_s1 = list(s1)\n",
    "    axu_s2 = list(s2)\n",
    "\n",
    "    for index, val in enumerate(s1):\n",
    "        if axu_s1[index] != axu_s2[index] :\n",
    "            axu_s1[index] = axu_s2[index]\n",
    "            distance = distance + 1\n",
    "        aux = s1[index + 1 : len(s1)]\n",
    "        if aux in s2 :\n",
    "            distance = distance + (len(s2) - len(s1))\n",
    "            return distance"
   ]
  },
  {
   "cell_type": "code",
   "execution_count": 2,
   "metadata": {},
   "outputs": [
    {
     "name": "stdout",
     "output_type": "stream",
     "text": [
      "2\n",
      "3\n"
     ]
    }
   ],
   "source": [
    "print(distance('biting', 'sitting'))\n",
    "# 2\n",
    "print(distance('mouse', 'horses'))\n",
    "# 3"
   ]
  },
  {
   "cell_type": "code",
   "execution_count": null,
   "metadata": {},
   "outputs": [],
   "source": []
  }
 ],
 "metadata": {
  "kernelspec": {
   "display_name": "kernel_36",
   "language": "python",
   "name": "kernel_36"
  },
  "language_info": {
   "codemirror_mode": {
    "name": "ipython",
    "version": 3
   },
   "file_extension": ".py",
   "mimetype": "text/x-python",
   "name": "python",
   "nbconvert_exporter": "python",
   "pygments_lexer": "ipython3",
   "version": "3.6.12"
  }
 },
 "nbformat": 4,
 "nbformat_minor": 4
}
