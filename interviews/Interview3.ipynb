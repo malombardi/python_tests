{
 "cells": [
  {
   "cell_type": "markdown",
   "metadata": {},
   "source": [
    "## Hi, here's your problem today. This problem was recently asked by Uber:\n",
    "\n",
    "##### Imagine you are building a compiler. Before running any code, the compiler must check that the parentheses in the program are balanced. Every opening bracket must have a corresponding closing bracket. We can approximate this using strings.\n",
    "\n",
    "###### Given a string containing just the characters '(', ')', '{', '}', '[' and ']', determine if the input string is valid.\n",
    "\n",
    "###### An input string is valid if:\n",
    "###### * Open brackets are closed by the same type of brackets.\n",
    "###### * Open brackets are closed in the correct order.\n",
    "###### * Note that an empty string is also considered valid.\n",
    "\n",
    "###### Example:\n",
    "###### Input: \"((()))\"\n",
    "###### Output: True\n",
    "\n",
    "###### Input: \"[()]{}\"\n",
    "###### Output: True\n",
    "\n",
    "###### Input: \"({[)]\"\n",
    "###### Output: False"
   ]
  },
  {
   "cell_type": "code",
   "execution_count": 1,
   "metadata": {},
   "outputs": [],
   "source": [
    "class Solution:\n",
    "  def isValid(self, s):\n",
    "    opening=['(','{','[']\n",
    "    closing=[')','}',']']\n",
    "    stack = []\n",
    "\n",
    "    for i in range(len(s)):\n",
    "        if s[i] in opening:\n",
    "            stack.append(s[i])\n",
    "        if s[i] in closing:\n",
    "            if len(stack) == 0:\n",
    "                return False\n",
    "            pos = closing.index(s[i])\n",
    "            element = stack.pop()\n",
    "            if element != opening[pos]:\n",
    "                return False\n",
    "\n",
    "    return len(stack) == 0"
   ]
  },
  {
   "cell_type": "markdown",
   "metadata": {},
   "source": [
    "**Test solution**"
   ]
  },
  {
   "cell_type": "code",
   "execution_count": 2,
   "metadata": {},
   "outputs": [
    {
     "name": "stdout",
     "output_type": "stream",
     "text": [
      "False\n",
      "True\n",
      "True\n"
     ]
    }
   ],
   "source": [
    "s = \"()(){(())\"\n",
    "# should return False\n",
    "print(Solution().isValid(s))\n",
    "\n",
    "s = \"\"\n",
    "# should return True\n",
    "print(Solution().isValid(s))\n",
    "\n",
    "s = \"([{}])()\"\n",
    "# should return True\n",
    "print(Solution().isValid(s))"
   ]
  },
  {
   "cell_type": "code",
   "execution_count": null,
   "metadata": {},
   "outputs": [],
   "source": []
  }
 ],
 "metadata": {
  "kernelspec": {
   "display_name": "Python 3",
   "language": "python",
   "name": "python3"
  },
  "language_info": {
   "codemirror_mode": {
    "name": "ipython",
    "version": 3
   },
   "file_extension": ".py",
   "mimetype": "text/x-python",
   "name": "python",
   "nbconvert_exporter": "python",
   "pygments_lexer": "ipython3",
   "version": "3.8.5"
  }
 },
 "nbformat": 4,
 "nbformat_minor": 4
}
