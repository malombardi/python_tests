{
 "cells": [
  {
   "cell_type": "markdown",
   "metadata": {},
   "source": [
    "## Hi, here's your problem today. This problem was recently asked by Apple:\n",
    "\n",
    "##### You are given two strings, A and B. Return whether A can be shifted some number of times to get B.\n",
    "\n",
    "##### Eg. A = abcde, B = cdeab should return true because A can be shifted 3 times to the right to get B. A = abc and B= acb should return false."
   ]
  },
  {
   "cell_type": "code",
   "execution_count": 1,
   "metadata": {},
   "outputs": [],
   "source": [
    "def is_shifted(a, b):\n",
    "    list_a = list(a)\n",
    "    first_char_from_a = list_a[0]\n",
    "    if b.count(first_char_from_a) > 0:\n",
    "        index = b.index(first_char_from_a)\n",
    "        diff = len(b) - index\n",
    "        for i in range(diff):\n",
    "            c = list_a.pop(0)\n",
    "            list_a.append(c)\n",
    "        new_a = ''.join(list_a)\n",
    "        \n",
    "        if new_a == b:\n",
    "            return True\n",
    "        else:\n",
    "            return False\n",
    "    return False\n",
    "        "
   ]
  },
  {
   "cell_type": "code",
   "execution_count": 2,
   "metadata": {},
   "outputs": [
    {
     "name": "stdout",
     "output_type": "stream",
     "text": [
      "True\n",
      "False\n"
     ]
    }
   ],
   "source": [
    "print(is_shifted('abcde', 'cdeab'))\n",
    "# True\n",
    "print(is_shifted('abc', 'acb'))\n",
    "# False"
   ]
  },
  {
   "cell_type": "code",
   "execution_count": null,
   "metadata": {},
   "outputs": [],
   "source": []
  }
 ],
 "metadata": {
  "kernelspec": {
   "display_name": "kernel_36",
   "language": "python",
   "name": "kernel_36"
  },
  "language_info": {
   "codemirror_mode": {
    "name": "ipython",
    "version": 3
   },
   "file_extension": ".py",
   "mimetype": "text/x-python",
   "name": "python",
   "nbconvert_exporter": "python",
   "pygments_lexer": "ipython3",
   "version": "3.6.12"
  }
 },
 "nbformat": 4,
 "nbformat_minor": 4
}
