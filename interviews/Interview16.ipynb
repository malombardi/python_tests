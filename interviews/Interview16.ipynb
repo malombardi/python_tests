{
 "cells": [
  {
   "cell_type": "markdown",
   "metadata": {},
   "source": [
    "##### Hi, here's your problem today. This problem was recently asked by Amazon:\n",
    "\n",
    "##### Given an array of n positive integers and a positive integer s, find the minimal length of a contiguous subarray of which the sum ≥ s. If there isn't one, return 0 instead.\n",
    "##### Example:\n",
    "##### Input: s = 7, nums = [2,3,1,2,4,3]\n",
    "##### Output: 2\n",
    "##### Explanation: the subarray [4,3] has the minimal length under the problem constraint.\n"
   ]
  },
  {
   "cell_type": "code",
   "execution_count": 1,
   "metadata": {},
   "outputs": [],
   "source": [
    "class Solution:\n",
    "  def minSubArrayLen(self, nums, s):\n",
    "    if sum(nums) < s:\n",
    "        return 0\n",
    "    minimal = len(nums)\n",
    "    for i in range(len(nums)-1):\n",
    "        if sum(nums[i+1:]) >= s:\n",
    "            minimal = len(nums) - (i + 1)\n",
    "    return minimal"
   ]
  },
  {
   "cell_type": "code",
   "execution_count": 2,
   "metadata": {},
   "outputs": [
    {
     "name": "stdout",
     "output_type": "stream",
     "text": [
      "2\n",
      "3\n",
      "5\n",
      "0\n"
     ]
    }
   ],
   "source": [
    "print(Solution().minSubArrayLen([2, 3, 1, 2, 4, 3], 7))\n",
    "# 2\n",
    "print(Solution().minSubArrayLen([2, 3, 1, 2, 4, 3], 9))\n",
    "# 3\n",
    "print(Solution().minSubArrayLen([2, 3, 1, 2, 4, 3], 11))\n",
    "# 5\n",
    "print(Solution().minSubArrayLen([2, 3, 1, 2, 4, 3], 16))\n",
    "# 0"
   ]
  },
  {
   "cell_type": "code",
   "execution_count": null,
   "metadata": {},
   "outputs": [],
   "source": []
  }
 ],
 "metadata": {
  "kernelspec": {
   "display_name": "kernel_36",
   "language": "python",
   "name": "kernel_36"
  },
  "language_info": {
   "codemirror_mode": {
    "name": "ipython",
    "version": 3
   },
   "file_extension": ".py",
   "mimetype": "text/x-python",
   "name": "python",
   "nbconvert_exporter": "python",
   "pygments_lexer": "ipython3",
   "version": "3.6.12"
  }
 },
 "nbformat": 4,
 "nbformat_minor": 4
}
