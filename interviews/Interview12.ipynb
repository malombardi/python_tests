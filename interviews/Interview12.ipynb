{
 "cells": [
  {
   "cell_type": "markdown",
   "metadata": {},
   "source": [
    "## Hi, here's your problem today. This problem was recently asked by Twitter:\n",
    "\n",
    "##### You are given the root of a binary tree. Invert the binary tree in place. That is, all left children should become right children, and all right children should become left children.\n",
    "\n",
    "##### Example:\n",
    "\n",
    "#####     a\n",
    "#####    / \\\n",
    "#####   b   c\n",
    "#####  / \\  /\n",
    "##### d   e f\n",
    "\n",
    "##### The inverted version of this tree is as follows:\n",
    "\n",
    "#####   a\n",
    "#####  / \\\n",
    "#####  c  b\n",
    "#####  \\  / \\\n",
    "#####   f e  d\n"
   ]
  },
  {
   "cell_type": "code",
   "execution_count": 2,
   "metadata": {},
   "outputs": [],
   "source": [
    "class Node:\n",
    "  def __init__(self, value):\n",
    "    self.left = None\n",
    "    self.right = None\n",
    "    self.value = value\n",
    "  def preorder(self):\n",
    "    print(self.value)\n",
    "    if self.left: self.left.preorder()\n",
    "    if self.right: self.right.preorder()"
   ]
  },
  {
   "cell_type": "code",
   "execution_count": 3,
   "metadata": {},
   "outputs": [],
   "source": [
    "root = Node('a') \n",
    "root.left = Node('b') \n",
    "root.right = Node('c') \n",
    "root.left.left = Node('d') \n",
    "root.left.right = Node('e') \n",
    "root.right.left = Node('f') "
   ]
  },
  {
   "cell_type": "code",
   "execution_count": 4,
   "metadata": {},
   "outputs": [],
   "source": [
    "def invert(node):\n",
    "    if node is not None:\n",
    "        aux = node.left\n",
    "        node.left = node.right\n",
    "        node.right = aux\n",
    "        invert(node.left)\n",
    "        invert(node.right)\n",
    "    "
   ]
  },
  {
   "cell_type": "code",
   "execution_count": 5,
   "metadata": {},
   "outputs": [
    {
     "name": "stdout",
     "output_type": "stream",
     "text": [
      "a\n",
      "b\n",
      "d\n",
      "e\n",
      "c\n",
      "f\n",
      "\n",
      "\n",
      "a\n",
      "c\n",
      "f\n",
      "b\n",
      "e\n",
      "d\n"
     ]
    }
   ],
   "source": [
    "root.preorder()\n",
    "# a b d e c f \n",
    "print(\"\\n\")\n",
    "invert(root)\n",
    "root.preorder()\n",
    "# a c f b e d"
   ]
  },
  {
   "cell_type": "code",
   "execution_count": null,
   "metadata": {},
   "outputs": [],
   "source": []
  }
 ],
 "metadata": {
  "kernelspec": {
   "display_name": "kernel_36",
   "language": "python",
   "name": "kernel_36"
  },
  "language_info": {
   "codemirror_mode": {
    "name": "ipython",
    "version": 3
   },
   "file_extension": ".py",
   "mimetype": "text/x-python",
   "name": "python",
   "nbconvert_exporter": "python",
   "pygments_lexer": "ipython3",
   "version": "3.6.12"
  }
 },
 "nbformat": 4,
 "nbformat_minor": 4
}
