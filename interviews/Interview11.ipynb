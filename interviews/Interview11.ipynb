{
 "cells": [
  {
   "cell_type": "markdown",
   "metadata": {},
   "source": [
    "##### Hi, here's your problem today. This problem was recently asked by Apple:\n",
    "\n",
    "##### Given an integer k and a binary search tree, find the floor (less than or equal to) of k, and the ceiling (larger than or equal to) of k. If either does not exist, then print them as None."
   ]
  },
  {
   "cell_type": "code",
   "execution_count": 1,
   "metadata": {},
   "outputs": [],
   "source": [
    "class Node:\n",
    "  def __init__(self, value):\n",
    "    self.left = None\n",
    "    self.right = None\n",
    "    self.value = value\n",
    "    \n",
    "root = Node(8) \n",
    "root.left = Node(4) \n",
    "root.right = Node(12) \n",
    "  \n",
    "root.left.left = Node(2) \n",
    "root.left.right = Node(6) \n",
    "  \n",
    "root.right.left = Node(10) \n",
    "root.right.right = Node(14) \n"
   ]
  },
  {
   "cell_type": "code",
   "execution_count": 2,
   "metadata": {},
   "outputs": [],
   "source": [
    "def findCeilingFloor(root_node, k, floor=None, ceil=None):\n",
    "    if root_node.value <= k :\n",
    "        floor = root_node.value\n",
    "    if root_node.value >= k :\n",
    "        ceil = root_node.value\n",
    "    if root_node.value > k and root_node.left is not None:\n",
    "        findCeilingFloor(root_node.left, k , floor=floor, ceil=ceil)\n",
    "    elif root_node.value < k and root_node.right is not None:\n",
    "        findCeilingFloor(root_node.right, k , floor=floor, ceil=ceil)\n",
    "    else:\n",
    "        print(floor)\n",
    "        print(ceil)"
   ]
  },
  {
   "cell_type": "code",
   "execution_count": 3,
   "metadata": {},
   "outputs": [
    {
     "name": "stdout",
     "output_type": "stream",
     "text": [
      "4\n",
      "6\n"
     ]
    }
   ],
   "source": [
    "findCeilingFloor(root, 5)\n",
    "# (4, 6)"
   ]
  },
  {
   "cell_type": "code",
   "execution_count": null,
   "metadata": {},
   "outputs": [],
   "source": []
  }
 ],
 "metadata": {
  "kernelspec": {
   "display_name": "kernel_36",
   "language": "python",
   "name": "kernel_36"
  },
  "language_info": {
   "codemirror_mode": {
    "name": "ipython",
    "version": 3
   },
   "file_extension": ".py",
   "mimetype": "text/x-python",
   "name": "python",
   "nbconvert_exporter": "python",
   "pygments_lexer": "ipython3",
   "version": "3.6.12"
  }
 },
 "nbformat": 4,
 "nbformat_minor": 4
}
