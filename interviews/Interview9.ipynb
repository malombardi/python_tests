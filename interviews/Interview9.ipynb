{
 "cells": [
  {
   "cell_type": "markdown",
   "metadata": {},
   "source": [
    "## Hi, here's your problem today. This problem was recently asked by Uber:\n",
    "\n",
    "##### Given a list of numbers, find if there exists a pythagorean triplet in that list. A pythagorean triplet is 3 variables a, b, c where a2 + b2 = c2\n",
    "\n",
    "##### Example:\n",
    "##### Input: [3, 5, 12, 5, 13]\n",
    "##### Output: True\n",
    "##### Here, 52 + 122 = 132.\n",
    "\n",
    "##### def findPythagoreanTriplets(nums):\n",
    "#####   # Fill this in.\n",
    "\n",
    "##### print findPythagoreanTriplets([3, 12, 5, 13])\n",
    "##### # True\n"
   ]
  },
  {
   "cell_type": "markdown",
   "metadata": {},
   "source": [
    "**The Solution**"
   ]
  },
  {
   "cell_type": "code",
   "execution_count": 1,
   "metadata": {},
   "outputs": [],
   "source": [
    "import math\n",
    "\n",
    "def findPythagoreanTriplets(nums):\n",
    "    end = len(nums)\n",
    "    for i in range(end):\n",
    "        a_exp = nums[i] ** 2\n",
    "        for j in range(i + 1, end):\n",
    "            b_exp = nums[j] ** 2\n",
    "            c_sqrt = math.sqrt(a_exp + b_exp) \n",
    "            if c_sqrt in nums:\n",
    "                return True\n",
    "            \n",
    "    return False\n"
   ]
  },
  {
   "cell_type": "code",
   "execution_count": 2,
   "metadata": {},
   "outputs": [
    {
     "name": "stdout",
     "output_type": "stream",
     "text": [
      "True\n"
     ]
    }
   ],
   "source": [
    "print(findPythagoreanTriplets([3, 12, 5, 13]))"
   ]
  },
  {
   "cell_type": "code",
   "execution_count": null,
   "metadata": {},
   "outputs": [],
   "source": []
  }
 ],
 "metadata": {
  "kernelspec": {
   "display_name": "kernel_36",
   "language": "python",
   "name": "kernel_36"
  },
  "language_info": {
   "codemirror_mode": {
    "name": "ipython",
    "version": 3
   },
   "file_extension": ".py",
   "mimetype": "text/x-python",
   "name": "python",
   "nbconvert_exporter": "python",
   "pygments_lexer": "ipython3",
   "version": "3.6.12"
  }
 },
 "nbformat": 4,
 "nbformat_minor": 4
}
