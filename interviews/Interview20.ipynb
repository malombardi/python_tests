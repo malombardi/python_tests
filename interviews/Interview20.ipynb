{
 "cells": [
  {
   "cell_type": "markdown",
   "metadata": {},
   "source": [
    "## Hi, here's your problem today. This problem was recently asked by Google:\n",
    "\n",
    "##### There are n people lined up, and each have a height represented as an integer. A murder has happened right in front of them, and only people who are taller than everyone in front of them are able to see what has happened. How many witnesses are there?\n",
    "\n",
    "##### Example:\n",
    "##### Input: [3, 6, 3, 4, 1]  \n",
    "##### Output: 3\n",
    "##### Explanation: Only [6, 4, 1] were able to see in front of them."
   ]
  },
  {
   "cell_type": "code",
   "execution_count": 1,
   "metadata": {},
   "outputs": [],
   "source": [
    "def witnesses(heights):\n",
    "    whitness = 1 # the last person will always be a whitness because nobody is in front\n",
    "    for i in range(1,len(heights)):\n",
    "        if(heights[i-1] > heights[i]):\n",
    "            whitness = whitness + 1\n",
    "    return whitness"
   ]
  },
  {
   "cell_type": "code",
   "execution_count": 2,
   "metadata": {},
   "outputs": [
    {
     "name": "stdout",
     "output_type": "stream",
     "text": [
      "3\n"
     ]
    }
   ],
   "source": [
    "print(witnesses([3, 6, 3, 4, 1]))\n",
    "# 3"
   ]
  },
  {
   "cell_type": "code",
   "execution_count": null,
   "metadata": {},
   "outputs": [],
   "source": []
  }
 ],
 "metadata": {
  "kernelspec": {
   "display_name": "kernel_36",
   "language": "python",
   "name": "kernel_36"
  },
  "language_info": {
   "codemirror_mode": {
    "name": "ipython",
    "version": 3
   },
   "file_extension": ".py",
   "mimetype": "text/x-python",
   "name": "python",
   "nbconvert_exporter": "python",
   "pygments_lexer": "ipython3",
   "version": "3.6.12"
  }
 },
 "nbformat": 4,
 "nbformat_minor": 4
}
