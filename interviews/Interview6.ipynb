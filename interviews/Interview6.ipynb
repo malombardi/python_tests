{
 "cells": [
  {
   "cell_type": "markdown",
   "metadata": {},
   "source": [
    "## Hi, here's your problem today. This problem was recently asked by Facebook:\n",
    "\n",
    "##### You are given a list of numbers, and a target number k. Return whether or not there are two numbers in the list that add up to k.\n",
    "\n",
    "##### Example:\n",
    "##### Given [4, 7, 1 , -3, 2] and k = 5,\n",
    "##### return true since 4 + 1 = 5.\n",
    "\n",
    "##### def two_sum(list, k):\n",
    "#####   # Fill this in.\n",
    "\n",
    "##### print two_sum([4,7,1,-3,2], 5)\n",
    "##### # True\n"
   ]
  },
  {
   "cell_type": "markdown",
   "metadata": {},
   "source": [
    "##### **we know that k-num = number_to_search. If that number is in the list we return true, else keep going through the list**"
   ]
  },
  {
   "cell_type": "code",
   "execution_count": 4,
   "metadata": {},
   "outputs": [],
   "source": [
    "def two_sum(list, k):\n",
    "    for number in list:\n",
    "        number_to_search = k - number\n",
    "        if number_to_search in list:\n",
    "            return True\n",
    "    return False"
   ]
  },
  {
   "cell_type": "code",
   "execution_count": 5,
   "metadata": {},
   "outputs": [
    {
     "name": "stdout",
     "output_type": "stream",
     "text": [
      "True\n"
     ]
    }
   ],
   "source": [
    "print(two_sum([4,7,1,-3,2], 5))"
   ]
  },
  {
   "cell_type": "code",
   "execution_count": 8,
   "metadata": {},
   "outputs": [
    {
     "name": "stdout",
     "output_type": "stream",
     "text": [
      "False\n"
     ]
    }
   ],
   "source": [
    "print(two_sum([4,7,1,-3,2], 20))"
   ]
  },
  {
   "cell_type": "code",
   "execution_count": null,
   "metadata": {},
   "outputs": [],
   "source": []
  }
 ],
 "metadata": {
  "kernelspec": {
   "display_name": "Python 3",
   "language": "python",
   "name": "python3"
  },
  "language_info": {
   "codemirror_mode": {
    "name": "ipython",
    "version": 3
   },
   "file_extension": ".py",
   "mimetype": "text/x-python",
   "name": "python",
   "nbconvert_exporter": "python",
   "pygments_lexer": "ipython3",
   "version": "3.6.12"
  }
 },
 "nbformat": 4,
 "nbformat_minor": 4
}
