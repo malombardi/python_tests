{
 "cells": [
  {
   "cell_type": "markdown",
   "metadata": {},
   "source": [
    "## Hi, here's your problem today. This problem was recently asked by Facebook:\n",
    "\n",
    "##### Given an array nums, write a function to move all 0's to the end of it while maintaining the relative order of the non-zero elements.\n",
    "\n",
    "##### Example:\n",
    "##### Input: [0,1,0,3,12]\n",
    "##### Output: [1,3,12,0,0]\n",
    "##### You must do this in-place without making a copy of the array.\n",
    "##### Minimize the total number of operations."
   ]
  },
  {
   "cell_type": "code",
   "execution_count": 1,
   "metadata": {},
   "outputs": [],
   "source": [
    "class Solution:\n",
    "  def moveZeros(self, nums):\n",
    "    length = len(nums)\n",
    "    index = 0\n",
    "    iterations = 0\n",
    "    while iterations < length:\n",
    "        val = nums[index]\n",
    "        if val == 0:\n",
    "            nums.pop(index)\n",
    "            nums.append(0)\n",
    "        else:\n",
    "            index = index + 1\n",
    "        iterations = iterations + 1"
   ]
  },
  {
   "cell_type": "code",
   "execution_count": 2,
   "metadata": {},
   "outputs": [
    {
     "name": "stdout",
     "output_type": "stream",
     "text": [
      "[2, 1, 3, 4, 0, 0, 0, 0, 0, 0]\n"
     ]
    }
   ],
   "source": [
    "nums = [0, 0, 0, 2, 0, 1, 3, 4, 0, 0]\n",
    "Solution().moveZeros(nums)\n",
    "print(nums)\n",
    "# [2, 1, 3, 4, 0, 0, 0, 0, 0, 0]"
   ]
  },
  {
   "cell_type": "code",
   "execution_count": null,
   "metadata": {},
   "outputs": [],
   "source": []
  }
 ],
 "metadata": {
  "kernelspec": {
   "display_name": "kernel_36",
   "language": "python",
   "name": "kernel_36"
  },
  "language_info": {
   "codemirror_mode": {
    "name": "ipython",
    "version": 3
   },
   "file_extension": ".py",
   "mimetype": "text/x-python",
   "name": "python",
   "nbconvert_exporter": "python",
   "pygments_lexer": "ipython3",
   "version": "3.6.12"
  }
 },
 "nbformat": 4,
 "nbformat_minor": 4
}
