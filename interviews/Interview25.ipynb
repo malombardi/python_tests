{
 "cells": [
  {
   "cell_type": "markdown",
   "metadata": {},
   "source": [
    "## Hi, here's your problem today. This problem was recently asked by Twitter:\n",
    "\n",
    "##### You are given an array of k sorted singly linked lists. Merge the linked lists into a single sorted linked list and return it."
   ]
  },
  {
   "cell_type": "code",
   "execution_count": 1,
   "metadata": {},
   "outputs": [],
   "source": [
    "class Node(object):\n",
    "  def __init__(self, val, next=None):\n",
    "    self.val = val\n",
    "    self.next = next\n",
    "\n",
    "  def __str__(self):\n",
    "    c = self\n",
    "    answer = \"\"\n",
    "    while c:\n",
    "      answer += str(c.val) if c.val else \"\"\n",
    "      c = c.next\n",
    "    return answer"
   ]
  },
  {
   "cell_type": "code",
   "execution_count": 2,
   "metadata": {},
   "outputs": [],
   "source": [
    "def sort_lists(lists):\n",
    "    sorted_array = []\n",
    "    for linked_list in lists :\n",
    "        while linked_list :\n",
    "            sorted_array.append(linked_list.val)\n",
    "            linked_list = linked_list.next\n",
    "    sorted_array.sort()\n",
    "    return sorted_array\n",
    "\n",
    "def merge_sorted(arr):\n",
    "    if len(arr) == 0:\n",
    "        return None\n",
    "    else:\n",
    "        val = arr.pop(0)\n",
    "        return Node(val, merge_sorted(arr))\n",
    "    \n",
    "def merge(lists):\n",
    "    arr = sort_lists(lists)\n",
    "    return merge_sorted(arr)\n",
    "        "
   ]
  },
  {
   "cell_type": "code",
   "execution_count": 3,
   "metadata": {},
   "outputs": [
    {
     "name": "stdout",
     "output_type": "stream",
     "text": [
      "123456\n"
     ]
    }
   ],
   "source": [
    "a = Node(1, Node(3, Node(5)))\n",
    "b = Node(2, Node(4, Node(6)))\n",
    "print(merge([a, b]))\n",
    "# 123456"
   ]
  },
  {
   "cell_type": "code",
   "execution_count": null,
   "metadata": {},
   "outputs": [],
   "source": []
  }
 ],
 "metadata": {
  "kernelspec": {
   "display_name": "kernel_36",
   "language": "python",
   "name": "kernel_36"
  },
  "language_info": {
   "codemirror_mode": {
    "name": "ipython",
    "version": 3
   },
   "file_extension": ".py",
   "mimetype": "text/x-python",
   "name": "python",
   "nbconvert_exporter": "python",
   "pygments_lexer": "ipython3",
   "version": "3.6.12"
  }
 },
 "nbformat": 4,
 "nbformat_minor": 4
}
