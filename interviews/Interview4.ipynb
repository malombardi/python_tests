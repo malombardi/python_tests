{
 "cells": [
  {
   "cell_type": "markdown",
   "metadata": {},
   "source": [
    "## Hi, here's your problem today. This problem was recently asked by AirBNB:\n",
    "\n",
    "##### Given a sorted array, A, with possibly duplicated elements, find the indices of the first and last occurrences of a target element, x. Return -1 if the target is not found.\n",
    "\n",
    "##### Example:\n",
    "##### Input: A = [1,3,3,5,7,8,9,9,9,15], target = 9\n",
    "##### Output: [6,8]\n",
    "\n",
    "##### Input: A = [100, 150, 150, 153], target = 150\n",
    "##### Output: [1,2]\n",
    "\n",
    "##### Input: A = [1,2,3,4,5,6,10], target = 9\n",
    "##### Output: [-1, -1]"
   ]
  },
  {
   "cell_type": "code",
   "execution_count": 1,
   "metadata": {},
   "outputs": [],
   "source": [
    "class Solution:\n",
    "  def getRange(self, arr, target):\n",
    "    sol=[-1,-1]\n",
    "    arrValues = ''.join(str(v) for v in arr)\n",
    "    try:\n",
    "        sol[0] = arrValues.index(str(target))\n",
    "        sol[1] = arrValues.rindex(str(target))\n",
    "    except ValueError:\n",
    "        print(\"Not found\")\n",
    "\n",
    "    return sol"
   ]
  },
  {
   "cell_type": "markdown",
   "metadata": {},
   "source": [
    "**Test Solution**"
   ]
  },
  {
   "cell_type": "code",
   "execution_count": 2,
   "metadata": {},
   "outputs": [
    {
     "name": "stdout",
     "output_type": "stream",
     "text": [
      "[1, 4]\n"
     ]
    }
   ],
   "source": [
    "arr = [1, 2, 2, 2, 2, 3, 4, 7, 8, 8]\n",
    "x = 2\n",
    "print(Solution().getRange(arr, x))\n",
    "# [1, 4]"
   ]
  },
  {
   "cell_type": "code",
   "execution_count": null,
   "metadata": {},
   "outputs": [],
   "source": []
  }
 ],
 "metadata": {
  "kernelspec": {
   "display_name": "Python 3",
   "language": "python",
   "name": "python3"
  },
  "language_info": {
   "codemirror_mode": {
    "name": "ipython",
    "version": 3
   },
   "file_extension": ".py",
   "mimetype": "text/x-python",
   "name": "python",
   "nbconvert_exporter": "python",
   "pygments_lexer": "ipython3",
   "version": "3.6.12"
  }
 },
 "nbformat": 4,
 "nbformat_minor": 4
}
