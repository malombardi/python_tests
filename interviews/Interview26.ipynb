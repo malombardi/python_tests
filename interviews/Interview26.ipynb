{
 "cells": [
  {
   "cell_type": "markdown",
   "metadata": {},
   "source": [
    "## Hi, here's your problem today. This problem was recently asked by Google:\n",
    "\n",
    "##### A look-and-say sequence is defined as the integer sequence beginning with a single digit in which the next term is obtained by describing the previous term. An example is easier to understand:\n",
    "\n",
    "##### Each consecutive value describes the prior value.\n",
    "\n",
    "##### 1      #\n",
    "##### 11     # one 1's\n",
    "##### 21     # two 1's\n",
    "##### 1211   # one 2, and one 1.\n",
    "##### 111221 # #one 1, one 2, and two 1's.\n",
    "\n",
    "##### Your task is, return the nth term of this sequence."
   ]
  },
  {
   "cell_type": "code",
   "execution_count": 1,
   "metadata": {},
   "outputs": [],
   "source": [
    "def lssequence(num):\n",
    "    arr = []\n",
    "    for index in range(num):\n",
    "        if index == 0:\n",
    "            arr.append([1])\n",
    "        else:\n",
    "            arr.append(create_sequence(arr[index-1]))\n",
    "    return arr\n",
    "            \n",
    "def create_sequence(previous):\n",
    "    count = 1\n",
    "    seq = []\n",
    "    for index, val in enumerate(previous):\n",
    "        if index < len(previous)-1:\n",
    "            if val == previous[index+1]:\n",
    "                count = count + 1\n",
    "            else:\n",
    "                seq.append(count)\n",
    "                seq.append(val)\n",
    "                count = 1\n",
    "        else:\n",
    "            seq.append(count)\n",
    "            seq.append(val)\n",
    "    return seq"
   ]
  },
  {
   "cell_type": "code",
   "execution_count": 2,
   "metadata": {},
   "outputs": [
    {
     "name": "stdout",
     "output_type": "stream",
     "text": [
      "[[1], [1, 1], [2, 1], [1, 2, 1, 1], [1, 1, 1, 2, 2, 1]]\n"
     ]
    }
   ],
   "source": [
    "print(lssequence(5))"
   ]
  },
  {
   "cell_type": "code",
   "execution_count": null,
   "metadata": {},
   "outputs": [],
   "source": []
  }
 ],
 "metadata": {
  "kernelspec": {
   "display_name": "kernel_36",
   "language": "python",
   "name": "kernel_36"
  },
  "language_info": {
   "codemirror_mode": {
    "name": "ipython",
    "version": 3
   },
   "file_extension": ".py",
   "mimetype": "text/x-python",
   "name": "python",
   "nbconvert_exporter": "python",
   "pygments_lexer": "ipython3",
   "version": "3.6.12"
  }
 },
 "nbformat": 4,
 "nbformat_minor": 4
}
