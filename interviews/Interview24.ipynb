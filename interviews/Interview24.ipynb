{
 "cells": [
  {
   "cell_type": "markdown",
   "metadata": {},
   "source": [
    "## Hi, here's your problem today. This problem was recently asked by Apple:\n",
    "\n",
    "##### You are given an array. Each element represents the price of a stock on that particular day. Calculate and return the maximum profit you can make from buying and selling that stock only once.\n",
    "\n",
    "##### For example: [9, 11, 8, 5, 7, 10]\n",
    "\n",
    "##### Here, the optimal trade is to buy when the price is 5, and sell when it is 10, so the return value should be 5 (profit = 10 - 5 = 5)."
   ]
  },
  {
   "cell_type": "code",
   "execution_count": 1,
   "metadata": {},
   "outputs": [],
   "source": [
    "def buy_and_sell(arr):\n",
    "    max_profit = 0\n",
    "    for index, element in enumerate(arr):\n",
    "        if(index < len(arr)-1):\n",
    "            max_val = max(arr[index+1:])\n",
    "            profit = max_val - element\n",
    "            if max_profit < profit:\n",
    "                max_profit = profit\n",
    "    return max_profit"
   ]
  },
  {
   "cell_type": "code",
   "execution_count": 2,
   "metadata": {},
   "outputs": [
    {
     "name": "stdout",
     "output_type": "stream",
     "text": [
      "5\n",
      "7\n"
     ]
    }
   ],
   "source": [
    "print(buy_and_sell([9, 11, 8, 5, 7, 10]))\n",
    "# 5\n",
    "print(buy_and_sell([9, 16, 8, 5, 7, 10]))\n",
    "# 7"
   ]
  },
  {
   "cell_type": "code",
   "execution_count": null,
   "metadata": {},
   "outputs": [],
   "source": []
  }
 ],
 "metadata": {
  "kernelspec": {
   "display_name": "kernel_36",
   "language": "python",
   "name": "kernel_36"
  },
  "language_info": {
   "codemirror_mode": {
    "name": "ipython",
    "version": 3
   },
   "file_extension": ".py",
   "mimetype": "text/x-python",
   "name": "python",
   "nbconvert_exporter": "python",
   "pygments_lexer": "ipython3",
   "version": "3.6.12"
  }
 },
 "nbformat": 4,
 "nbformat_minor": 4
}
