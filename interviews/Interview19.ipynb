{
 "cells": [
  {
   "cell_type": "markdown",
   "metadata": {},
   "source": [
    "## Hi, here's your problem today. This problem was recently asked by Twitter:\n",
    "\n",
    "##### Given a string with the initial condition of dominoes, where:\n",
    "\n",
    "##### . represents that the domino is standing still\n",
    "##### L represents that the domino is falling to the left side\n",
    "##### R represents that the domino is falling to the right side\n",
    "\n",
    "##### Figure out the final position of the dominoes. If there are dominoes that get pushed on both ends, the force cancels out and that domino remains upright.\n",
    "\n",
    "##### Example:\n",
    "##### Input:  ..R...L..R.\n",
    "##### Output: ..RR.LL..RR"
   ]
  },
  {
   "cell_type": "code",
   "execution_count": 1,
   "metadata": {},
   "outputs": [],
   "source": [
    "class Solution(object):\n",
    "  def pushDominoes(self, dominoes):\n",
    "    solution = \"\"\n",
    "    \n",
    "    for i in range(len(dominoes)-1):\n",
    "        if dominoes[i-1]=='R' and dominoes[i+1]=='L':\n",
    "            solution = solution + \".\"\n",
    "        elif dominoes[i-1]=='R':\n",
    "            solution = solution + \"R\"\n",
    "        elif dominoes[i+1]=='L':\n",
    "            solution = solution + \"L\"\n",
    "        else:\n",
    "            solution = solution + (dominoes[i])\n",
    "    \n",
    "    # since we are not looping the last character we look it here\n",
    "    if solution[-1] == 'R':\n",
    "        solution = solution + \"R\"\n",
    "    else:\n",
    "        solution = solution + dominoes[-1]\n",
    "        \n",
    "    return solution"
   ]
  },
  {
   "cell_type": "code",
   "execution_count": 2,
   "metadata": {},
   "outputs": [
    {
     "name": "stdout",
     "output_type": "stream",
     "text": [
      "..RR.LL..RR\n",
      "R.L\n"
     ]
    }
   ],
   "source": [
    "print(Solution().pushDominoes('..R...L..R.'))\n",
    "# ..RR.LL..RR\n",
    "print(Solution().pushDominoes('R.L'))\n",
    "# R.L"
   ]
  },
  {
   "cell_type": "code",
   "execution_count": null,
   "metadata": {},
   "outputs": [],
   "source": []
  }
 ],
 "metadata": {
  "kernelspec": {
   "display_name": "kernel_36",
   "language": "python",
   "name": "kernel_36"
  },
  "language_info": {
   "codemirror_mode": {
    "name": "ipython",
    "version": 3
   },
   "file_extension": ".py",
   "mimetype": "text/x-python",
   "name": "python",
   "nbconvert_exporter": "python",
   "pygments_lexer": "ipython3",
   "version": "3.6.12"
  }
 },
 "nbformat": 4,
 "nbformat_minor": 4
}
