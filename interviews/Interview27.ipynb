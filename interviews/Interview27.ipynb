{
 "cells": [
  {
   "cell_type": "markdown",
   "metadata": {},
   "source": [
    "## Hi, here's your problem today. This problem was recently asked by Facebook:\n",
    "\n",
    "##### You are given an array of integers. Return the smallest positive integer that is not present in the array. The array may contain duplicate entries.\n",
    "\n",
    "##### For example, the input [3, 4, -1, 1] should return 2 because it is the smallest positive integer that doesn't exist in the array.\n",
    "\n",
    "##### Your solution should run in linear time and use constant space."
   ]
  },
  {
   "cell_type": "code",
   "execution_count": 1,
   "metadata": {},
   "outputs": [],
   "source": [
    "def first_missing_positive(nums):\n",
    "    existing_min = min([i for i in nums if i > 0])\n",
    "    missing = existing_min + 1\n",
    "    while nums.count(missing) > 0:\n",
    "        missing = missing + 1\n",
    "    return missing"
   ]
  },
  {
   "cell_type": "code",
   "execution_count": 2,
   "metadata": {},
   "outputs": [
    {
     "name": "stdout",
     "output_type": "stream",
     "text": [
      "2\n"
     ]
    }
   ],
   "source": [
    "print(first_missing_positive([3, 4, -1, 1]))\n",
    "# 2"
   ]
  },
  {
   "cell_type": "code",
   "execution_count": null,
   "metadata": {},
   "outputs": [],
   "source": []
  }
 ],
 "metadata": {
  "kernelspec": {
   "display_name": "kernel_36",
   "language": "python",
   "name": "kernel_36"
  },
  "language_info": {
   "codemirror_mode": {
    "name": "ipython",
    "version": 3
   },
   "file_extension": ".py",
   "mimetype": "text/x-python",
   "name": "python",
   "nbconvert_exporter": "python",
   "pygments_lexer": "ipython3",
   "version": "3.6.12"
  }
 },
 "nbformat": 4,
 "nbformat_minor": 4
}
