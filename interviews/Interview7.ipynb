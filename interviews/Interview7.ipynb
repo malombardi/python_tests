{
 "cells": [
  {
   "cell_type": "markdown",
   "metadata": {},
   "source": [
    "## Hi, here's your problem today. This problem was recently asked by Facebook:\n",
    "\n",
    "##### Given a list of numbers, where every number shows up twice except for one number, find that one number.\n",
    "\n",
    "##### Example:\n",
    "##### Input: [4, 3, 2, 4, 1, 3, 2]\n",
    "##### Output: 1\n",
    "##### Here's the function signature:\n",
    "\n",
    "##### def singleNumber(nums):\n",
    "#####   # Fill this in.\n",
    "\n",
    "##### print singleNumber([4, 3, 2, 4, 1, 3, 2])\n",
    "##### # 1\n"
   ]
  },
  {
   "cell_type": "code",
   "execution_count": 1,
   "metadata": {},
   "outputs": [],
   "source": [
    "def singleNumber(nums):\n",
    "    return sorted(set([i for i in nums if nums.count(i)==1]))"
   ]
  },
  {
   "cell_type": "code",
   "execution_count": 2,
   "metadata": {},
   "outputs": [
    {
     "name": "stdout",
     "output_type": "stream",
     "text": [
      "[1]\n"
     ]
    }
   ],
   "source": [
    "print(singleNumber([4, 3, 2, 4, 1, 3, 2]))"
   ]
  },
  {
   "cell_type": "code",
   "execution_count": null,
   "metadata": {},
   "outputs": [],
   "source": []
  }
 ],
 "metadata": {
  "kernelspec": {
   "display_name": "Python 3",
   "language": "python",
   "name": "python3"
  },
  "language_info": {
   "codemirror_mode": {
    "name": "ipython",
    "version": 3
   },
   "file_extension": ".py",
   "mimetype": "text/x-python",
   "name": "python",
   "nbconvert_exporter": "python",
   "pygments_lexer": "ipython3",
   "version": "3.6.12"
  }
 },
 "nbformat": 4,
 "nbformat_minor": 4
}
