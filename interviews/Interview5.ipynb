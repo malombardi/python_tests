{
 "cells": [
  {
   "cell_type": "markdown",
   "metadata": {},
   "source": [
    "## Hi, here's your problem today. This problem was recently asked by Google:\n",
    "\n",
    "##### Given a list of numbers with only 3 unique numbers (1, 2, 3), sort the list in O(n) time.\n",
    "\n",
    "##### Example 1:\n",
    "##### Input: [3, 3, 2, 1, 3, 2, 1]\n",
    "##### Output: [1, 1, 2, 2, 3, 3, 3]\n",
    "##### def sortNums(nums):\n",
    "  ##### # Fill this in.\n",
    "\n",
    "##### print sortNums([3, 3, 2, 1, 3, 2, 1])\n",
    "##### # [1, 1, 2, 2, 3, 3, 3]\n"
   ]
  },
  {
   "cell_type": "markdown",
   "metadata": {},
   "source": [
    "##### **As the problem says it will only contains 1,2 and 3s so 3s should be at the end, 1s at the beginning and 2s in the middle. My idea is to keep track of the first '3' position so I can insert the two before that position**"
   ]
  },
  {
   "cell_type": "code",
   "execution_count": 8,
   "metadata": {},
   "outputs": [],
   "source": [
    "def sortNums(nums):\n",
    "    aux_nums = []\n",
    "    for index in range(len(nums)):\n",
    "        pos = 0\n",
    "        if nums[index] == 2:\n",
    "            try:\n",
    "                pos = aux_nums.index(3)\n",
    "            except:\n",
    "                # the element 3 was not found in the aux_nums list, so we will insert the 2 at the end\n",
    "                pos = len(aux_nums)\n",
    "        elif nums[index] == 3:\n",
    "            pos = len(aux_nums)\n",
    "        aux_nums.insert(pos, nums[index])\n",
    "    return aux_nums"
   ]
  },
  {
   "cell_type": "code",
   "execution_count": 9,
   "metadata": {},
   "outputs": [
    {
     "name": "stdout",
     "output_type": "stream",
     "text": [
      "[1, 1, 2, 2, 3, 3, 3]\n"
     ]
    }
   ],
   "source": [
    "print(sortNums([3, 3, 2, 1, 3, 2, 1]))"
   ]
  },
  {
   "cell_type": "code",
   "execution_count": null,
   "metadata": {},
   "outputs": [],
   "source": []
  }
 ],
 "metadata": {
  "kernelspec": {
   "display_name": "Python 3",
   "language": "python",
   "name": "python3"
  },
  "language_info": {
   "codemirror_mode": {
    "name": "ipython",
    "version": 3
   },
   "file_extension": ".py",
   "mimetype": "text/x-python",
   "name": "python",
   "nbconvert_exporter": "python",
   "pygments_lexer": "ipython3",
   "version": "3.6.12"
  }
 },
 "nbformat": 4,
 "nbformat_minor": 4
}
