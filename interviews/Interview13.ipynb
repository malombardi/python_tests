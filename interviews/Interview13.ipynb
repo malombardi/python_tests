{
 "cells": [
  {
   "cell_type": "markdown",
   "metadata": {},
   "source": [
    "##### Hi, here's your problem today. This problem was recently asked by Twitter:\n",
    "\n",
    "##### Implement a class for a stack that supports all the regular functions (push, pop) and an additional function of max() which returns the maximum element in the stack (return None if the stack is empty). Each method should run in constant time."
   ]
  },
  {
   "cell_type": "code",
   "execution_count": 1,
   "metadata": {},
   "outputs": [],
   "source": [
    "class MaxStack:\n",
    "  def __init__(self):\n",
    "    self.stack = []\n",
    "\n",
    "  def push(self, val):\n",
    "    self.stack.append(val)\n",
    "\n",
    "  def pop(self):\n",
    "    return self.stack.pop()\n",
    "  \n",
    "  def max(self):\n",
    "    max_val = None\n",
    "    if self.stack : \n",
    "        for val in self.stack :\n",
    "            if not max_val or val > max_val :\n",
    "                max_val = val\n",
    "    return max_val"
   ]
  },
  {
   "cell_type": "code",
   "execution_count": 2,
   "metadata": {},
   "outputs": [
    {
     "name": "stdout",
     "output_type": "stream",
     "text": [
      "3\n",
      "2\n"
     ]
    }
   ],
   "source": [
    "s = MaxStack()\n",
    "s.push(1)\n",
    "s.push(2)\n",
    "s.push(3)\n",
    "s.push(2)\n",
    "print(s.max())\n",
    "# 3\n",
    "s.pop()\n",
    "s.pop()\n",
    "print(s.max())\n",
    "# 2"
   ]
  },
  {
   "cell_type": "code",
   "execution_count": null,
   "metadata": {},
   "outputs": [],
   "source": []
  }
 ],
 "metadata": {
  "kernelspec": {
   "display_name": "kernel_36",
   "language": "python",
   "name": "kernel_36"
  },
  "language_info": {
   "codemirror_mode": {
    "name": "ipython",
    "version": 3
   },
   "file_extension": ".py",
   "mimetype": "text/x-python",
   "name": "python",
   "nbconvert_exporter": "python",
   "pygments_lexer": "ipython3",
   "version": "3.6.12"
  }
 },
 "nbformat": 4,
 "nbformat_minor": 4
}
