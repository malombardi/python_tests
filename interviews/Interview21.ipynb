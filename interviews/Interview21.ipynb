{
 "cells": [
  {
   "cell_type": "markdown",
   "metadata": {},
   "source": [
    "## Hi, here's your problem today. This problem was recently asked by Google:\n",
    "\n",
    "##### You are given a hash table where the key is a course code, and the value is a list of all the course codes that are prerequisites for the key. Return a valid ordering in which we can complete the courses. If no such ordering exists, return NULL.\n",
    "\n",
    "##### Example:\n",
    "##### {\n",
    "#####   'CSC300': ['CSC100', 'CSC200'], \n",
    "#####   'CSC200': ['CSC100'], \n",
    "#####   'CSC100': []\n",
    "##### }\n",
    "\n",
    "##### This input should return the order that we need to take these courses:\n",
    "#####  ['CSC100', 'CSC200', 'CSCS300']"
   ]
  },
  {
   "cell_type": "code",
   "execution_count": 1,
   "metadata": {},
   "outputs": [],
   "source": [
    "def courses_to_take(course_to_prereqs):\n",
    "    courses = []\n",
    "\n",
    "    while len(courses) < len(course_to_prereqs.keys()):\n",
    "        for key, val in course_to_prereqs.items():\n",
    "\n",
    "            for course in courses:\n",
    "                if val.count(course) == 1:\n",
    "                    val.remove(course)\n",
    "            if not val and courses.count(key) == 0:\n",
    "                courses.append(key)\n",
    "\n",
    "    return courses"
   ]
  },
  {
   "cell_type": "code",
   "execution_count": 2,
   "metadata": {},
   "outputs": [
    {
     "name": "stdout",
     "output_type": "stream",
     "text": [
      "['CSC100', 'CSC200', 'CSC300']\n",
      "['CSC100', 'CSC300', 'CSC200']\n"
     ]
    }
   ],
   "source": [
    "courses = {\n",
    "  'CSC300': ['CSC100', 'CSC200'], \n",
    "  'CSC200': ['CSC100'], \n",
    "  'CSC100': []\n",
    "}\n",
    "print(courses_to_take(courses))\n",
    "# ['CSC100', 'CSC200', 'CSC300']\n",
    "courses = {\n",
    "  'CSC300': ['CSC100'], \n",
    "  'CSC200': ['CSC100'], \n",
    "  'CSC100': []\n",
    "}\n",
    "print(courses_to_take(courses))\n",
    "# ['CSC100', 'CSC300', 'CSC200']"
   ]
  },
  {
   "cell_type": "code",
   "execution_count": null,
   "metadata": {},
   "outputs": [],
   "source": []
  }
 ],
 "metadata": {
  "kernelspec": {
   "display_name": "kernel_36",
   "language": "python",
   "name": "kernel_36"
  },
  "language_info": {
   "codemirror_mode": {
    "name": "ipython",
    "version": 3
   },
   "file_extension": ".py",
   "mimetype": "text/x-python",
   "name": "python",
   "nbconvert_exporter": "python",
   "pygments_lexer": "ipython3",
   "version": "3.6.12"
  }
 },
 "nbformat": 4,
 "nbformat_minor": 4
}
