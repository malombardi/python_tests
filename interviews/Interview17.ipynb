{
 "cells": [
  {
   "cell_type": "markdown",
   "metadata": {},
   "source": [
    "## Hi, here's your problem today. This problem was recently asked by Microsoft:\n",
    "\n",
    "##### You 2 integers n and m representing an n by m grid, determine the number of ways you can get from the top-left to the bottom-right of the matrix y going only right or down.\n",
    "\n",
    "##### Example:\n",
    "##### n = 2, m = 2\n",
    "\n",
    "##### This should return 2, since the only possible routes are:\n",
    "##### Right, down\n",
    "##### Down, right.\n"
   ]
  },
  {
   "cell_type": "markdown",
   "metadata": {},
   "source": [
    "###### I think that this can be done using combinatorics."
   ]
  },
  {
   "cell_type": "code",
   "execution_count": 1,
   "metadata": {},
   "outputs": [],
   "source": [
    "import math\n",
    "# I'll use factorial function here"
   ]
  },
  {
   "cell_type": "code",
   "execution_count": 2,
   "metadata": {},
   "outputs": [],
   "source": [
    "def num_ways(n, m):\n",
    "    row_factorial = math.factorial(m-1)\n",
    "    column_factorial = math.factorial(n-1)\n",
    "    row_column_factorial = math.factorial(n-1+m-1)\n",
    "    return int(row_column_factorial / (column_factorial * row_factorial))"
   ]
  },
  {
   "cell_type": "code",
   "execution_count": 3,
   "metadata": {},
   "outputs": [
    {
     "name": "stdout",
     "output_type": "stream",
     "text": [
      "2\n",
      "6\n",
      "20\n",
      "10\n"
     ]
    }
   ],
   "source": [
    "print(num_ways(2, 2))\n",
    "# 2\n",
    "print(num_ways(3, 3))\n",
    "# 6\n",
    "print(num_ways(4, 4))\n",
    "# 20\n",
    "print(num_ways(4, 3))\n",
    "# 10"
   ]
  },
  {
   "cell_type": "code",
   "execution_count": null,
   "metadata": {},
   "outputs": [],
   "source": []
  }
 ],
 "metadata": {
  "kernelspec": {
   "display_name": "kernel_36",
   "language": "python",
   "name": "kernel_36"
  },
  "language_info": {
   "codemirror_mode": {
    "name": "ipython",
    "version": 3
   },
   "file_extension": ".py",
   "mimetype": "text/x-python",
   "name": "python",
   "nbconvert_exporter": "python",
   "pygments_lexer": "ipython3",
   "version": "3.6.12"
  }
 },
 "nbformat": 4,
 "nbformat_minor": 4
}
