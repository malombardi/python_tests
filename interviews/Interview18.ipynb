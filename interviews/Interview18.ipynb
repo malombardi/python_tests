{
 "cells": [
  {
   "cell_type": "markdown",
   "metadata": {},
   "source": [
    "## Hi, here's your problem today. This problem was recently asked by Apple:\n",
    "\n",
    "##### You are given two singly linked lists. The lists intersect at some node. Find, and return the node. Note: the lists are non-cyclical.\n",
    "\n",
    "##### Example:\n",
    "\n",
    "##### A = 1 -> 2 -> 3 -> 4\n",
    "##### B = 6 -> 3 -> 4\n",
    "\n",
    "##### This should return 3 (you may assume that any nodes with the same value are the same node).\n"
   ]
  },
  {
   "cell_type": "code",
   "execution_count": 1,
   "metadata": {},
   "outputs": [],
   "source": [
    "class Node(object):\n",
    "  def __init__(self, val):\n",
    "    self.val = val\n",
    "    self.next = None\n",
    "  def prettyPrint(self):\n",
    "    c = self\n",
    "    while c:\n",
    "        print(c.val)\n",
    "        c = c.next"
   ]
  },
  {
   "cell_type": "code",
   "execution_count": 2,
   "metadata": {},
   "outputs": [],
   "source": [
    "def intersection(a, b):\n",
    "    aux = a\n",
    "    while aux is not None:\n",
    "        aux2 = b\n",
    "        while aux2 is not None:\n",
    "            if aux.val == aux2.val:\n",
    "                return aux2\n",
    "            else:\n",
    "                aux2 = aux2.next\n",
    "        aux = aux.next"
   ]
  },
  {
   "cell_type": "code",
   "execution_count": 3,
   "metadata": {},
   "outputs": [
    {
     "name": "stdout",
     "output_type": "stream",
     "text": [
      "3\n",
      "4\n"
     ]
    }
   ],
   "source": [
    "a = Node(1)\n",
    "a.next = Node(2)\n",
    "a.next.next = Node(3)\n",
    "a.next.next.next = Node(4)\n",
    "\n",
    "b = Node(6)\n",
    "b.next = a.next.next\n",
    "\n",
    "c = intersection(a, b)\n",
    "c.prettyPrint()\n",
    "# 3 4"
   ]
  },
  {
   "cell_type": "code",
   "execution_count": null,
   "metadata": {},
   "outputs": [],
   "source": []
  }
 ],
 "metadata": {
  "kernelspec": {
   "display_name": "kernel_36",
   "language": "python",
   "name": "kernel_36"
  },
  "language_info": {
   "codemirror_mode": {
    "name": "ipython",
    "version": 3
   },
   "file_extension": ".py",
   "mimetype": "text/x-python",
   "name": "python",
   "nbconvert_exporter": "python",
   "pygments_lexer": "ipython3",
   "version": "3.6.12"
  }
 },
 "nbformat": 4,
 "nbformat_minor": 4
}
