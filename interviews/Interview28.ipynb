{
 "cells": [
  {
   "cell_type": "markdown",
   "metadata": {},
   "source": [
    "## Hi, here's your problem today. This problem was recently asked by LinkedIn:\n",
    "\n",
    "##### Given a sorted list of numbers, change it into a balanced binary search tree. You can assume there will be no duplicate numbers in the list."
   ]
  },
  {
   "cell_type": "code",
   "execution_count": 1,
   "metadata": {},
   "outputs": [],
   "source": [
    "from collections import deque\n",
    "\n",
    "class Node:\n",
    "  def __init__(self, value, left=None, right=None):\n",
    "    self.value = value\n",
    "    self.left = left\n",
    "    self.right = right\n",
    "\n",
    "  def __str__(self):\n",
    "    # level-by-level pretty-printer\n",
    "    nodes = deque([self])\n",
    "    answer = ''\n",
    "    while len(nodes):\n",
    "      node = nodes.popleft()\n",
    "      if not node:\n",
    "        continue\n",
    "      answer += str(node.value)\n",
    "      nodes.append(node.left)\n",
    "      nodes.append(node.right)\n",
    "    return answer"
   ]
  },
  {
   "cell_type": "code",
   "execution_count": 2,
   "metadata": {},
   "outputs": [],
   "source": [
    "def createBalancedBST(nums):\n",
    "    if len(nums) == 0 :\n",
    "        return None\n",
    "    else:\n",
    "        middle = int(len(nums)/2)\n",
    "        return Node(nums[middle], createBalancedBST(nums[:middle]), createBalancedBST(nums[middle+1:]))"
   ]
  },
  {
   "cell_type": "code",
   "execution_count": 3,
   "metadata": {},
   "outputs": [
    {
     "name": "stdout",
     "output_type": "stream",
     "text": [
      "4261357\n"
     ]
    }
   ],
   "source": [
    "print(createBalancedBST([1, 2, 3, 4, 5, 6, 7]))\n",
    "# 4261357\n",
    "#   4\n",
    "#  / \\\n",
    "# 2   6\n",
    "#/ \\ / \\\n",
    "#1 3 5 7\n"
   ]
  },
  {
   "cell_type": "code",
   "execution_count": null,
   "metadata": {},
   "outputs": [],
   "source": []
  }
 ],
 "metadata": {
  "kernelspec": {
   "display_name": "kernel_36",
   "language": "python",
   "name": "kernel_36"
  },
  "language_info": {
   "codemirror_mode": {
    "name": "ipython",
    "version": 3
   },
   "file_extension": ".py",
   "mimetype": "text/x-python",
   "name": "python",
   "nbconvert_exporter": "python",
   "pygments_lexer": "ipython3",
   "version": "3.6.12"
  }
 },
 "nbformat": 4,
 "nbformat_minor": 4
}
