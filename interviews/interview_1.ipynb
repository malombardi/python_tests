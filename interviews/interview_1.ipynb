{
 "cells": [
  {
   "cell_type": "markdown",
   "metadata": {},
   "source": [
    "# This problem was recently asked by Microsoft:\n",
    "*You are given two linked-lists representing two non-negative integers. The digits are stored in reverse order and each of their nodes contain a single digit. Add the two numbers and return it as a linked list.*\n",
    "\n",
    "\\#Example:\n",
    "\n",
    "\\#Input: (2 -> 4 -> 3) + (5 -> 6 -> 4)\n",
    "\n",
    "\\#Output: 7 -> 0 -> 8\n",
    "\n",
    "\\#Explanation: 342 + 465 = 807."
   ]
  },
  {
   "cell_type": "code",
   "execution_count": 1,
   "metadata": {},
   "outputs": [],
   "source": [
    "# Definition for singly-linked list.\n",
    "class ListNode(object):\n",
    "  def __init__(self, x):\n",
    "    self.val = x\n",
    "    self.next = None"
   ]
  },
  {
   "cell_type": "markdown",
   "metadata": {},
   "source": [
    "**Solution**"
   ]
  },
  {
   "cell_type": "code",
   "execution_count": 2,
   "metadata": {},
   "outputs": [],
   "source": [
    "class Solution:\n",
    "  def addTwoNumbers(self, l1, l2, c = 0):\n",
    "      if not l1:\n",
    "          return l2\n",
    "      if not l2:\n",
    "          return l1\n",
    "\n",
    "      lres = ListNode(l1.val + l2.val + c )\n",
    "\n",
    "      if lres.val >= 10 :\n",
    "          aux = lres.val\n",
    "          lres.val = aux % 10\n",
    "\n",
    "          lres.next = self.addTwoNumbers(l1.next,l2.next,aux // 10)\n",
    "      else :\n",
    "          lres.next = self.addTwoNumbers(l1.next,l2.next)\n",
    "\n",
    "      return lres"
   ]
  },
  {
   "cell_type": "markdown",
   "metadata": {},
   "source": [
    "***Testing solution***"
   ]
  },
  {
   "cell_type": "code",
   "execution_count": 5,
   "metadata": {},
   "outputs": [
    {
     "name": "stdout",
     "output_type": "stream",
     "text": [
      "7\n",
      "0\n",
      "8\n"
     ]
    }
   ],
   "source": [
    "l1 = ListNode(2)\n",
    "l1.next = ListNode(4)\n",
    "l1.next.next = ListNode(3)\n",
    "\n",
    "\n",
    "l2 = ListNode(5)\n",
    "l2.next = ListNode(6)\n",
    "l2.next.next = ListNode(4)\n",
    "\n",
    "result = Solution().addTwoNumbers(l1, l2)\n",
    "while result:\n",
    "  print(result.val)\n",
    "  result = result.next\n"
   ]
  },
  {
   "cell_type": "code",
   "execution_count": null,
   "metadata": {},
   "outputs": [],
   "source": []
  }
 ],
 "metadata": {
  "kernelspec": {
   "display_name": "Python 3",
   "language": "python",
   "name": "python3"
  },
  "language_info": {
   "codemirror_mode": {
    "name": "ipython",
    "version": 3
   },
   "file_extension": ".py",
   "mimetype": "text/x-python",
   "name": "python",
   "nbconvert_exporter": "python",
   "pygments_lexer": "ipython3",
   "version": "3.6.12"
  }
 },
 "nbformat": 4,
 "nbformat_minor": 4
}
