{
 "cells": [
  {
   "cell_type": "markdown",
   "metadata": {},
   "source": [
    "## Hi, here's your problem today. This problem was recently asked by Microsoft:\n",
    "\n",
    "##### You are given an array of intervals - that is, an array of tuples (start, end). The array may not be sorted, and could contain overlapping intervals. Return another array where the overlapping intervals are merged.\n",
    "\n",
    "##### For example:\n",
    "##### [(1, 3), (5, 8), (4, 10), (20, 25)]\n",
    "\n",
    "##### This input should return [(1, 3), (4, 10), (20, 25)] since (5, 8) and (4, 10) can be merged into (4, 10)."
   ]
  },
  {
   "cell_type": "code",
   "execution_count": 1,
   "metadata": {},
   "outputs": [],
   "source": [
    "def merge(intervals):\n",
    "    merged = []\n",
    "    bigger = intervals[0]\n",
    "\n",
    "    for set_val in intervals:\n",
    "        min_val = 0\n",
    "        max_val = 0\n",
    "        should_remove = False\n",
    "        if bigger[1] >= set_val[0] :\n",
    "            max_val = set_val[1]\n",
    "            should_remove = True\n",
    "        if bigger[0] >= set_val[0]:\n",
    "            min_val = set_val[0]\n",
    "            should_remove = True\n",
    "                \n",
    "        bigger = (min_val, max_val)\n",
    "            \n",
    "        if should_remove and len(merged) > 0:\n",
    "            merged.pop(-1)\n",
    "        else:\n",
    "            bigger = set_val\n",
    "\n",
    "        merged.append(bigger)\n",
    "       \n",
    "    return merged"
   ]
  },
  {
   "cell_type": "code",
   "execution_count": 2,
   "metadata": {},
   "outputs": [
    {
     "name": "stdout",
     "output_type": "stream",
     "text": [
      "[(1, 3), (4, 10), (20, 25)]\n"
     ]
    }
   ],
   "source": [
    "print(merge([(1, 3), (5, 8), (4, 10), (20, 25)]))\n",
    "# [(1, 3), (4, 10), (20, 25)]"
   ]
  },
  {
   "cell_type": "code",
   "execution_count": null,
   "metadata": {},
   "outputs": [],
   "source": []
  }
 ],
 "metadata": {
  "kernelspec": {
   "display_name": "kernel_36",
   "language": "python",
   "name": "kernel_36"
  },
  "language_info": {
   "codemirror_mode": {
    "name": "ipython",
    "version": 3
   },
   "file_extension": ".py",
   "mimetype": "text/x-python",
   "name": "python",
   "nbconvert_exporter": "python",
   "pygments_lexer": "ipython3",
   "version": "3.6.12"
  }
 },
 "nbformat": 4,
 "nbformat_minor": 4
}
