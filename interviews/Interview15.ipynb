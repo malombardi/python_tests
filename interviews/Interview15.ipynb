{
 "cells": [
  {
   "cell_type": "markdown",
   "metadata": {},
   "source": [
    "##### Hi, here's your problem today. This problem was recently asked by Amazon:\n",
    "\n",
    "##### You are given a 2D array of characters, and a target string. Return whether or not the word target word exists in the matrix. Unlike a standard word search, the word must be either going left-to-right, or top-to-bottom in the matrix.\n",
    "\n",
    "##### Example:\n",
    "\n",
    "##### [['F', 'A', 'C', 'I'],\n",
    "#####  ['O', 'B', 'Q', 'P'],\n",
    "#####  ['A', 'N', 'O', 'B'],\n",
    "#####  ['M', 'A', 'S', 'S']]\n",
    "\n",
    "##### Given this matrix, and the target word FOAM, you should return true, as it can be found going up-to-down in the first column.\n"
   ]
  },
  {
   "cell_type": "code",
   "execution_count": 1,
   "metadata": {},
   "outputs": [],
   "source": [
    "def word_search(matrix, word):\n",
    "    ltr_string = ''\n",
    "    utd_string = ''\n",
    "    pos = None\n",
    "    found = False\n",
    "    for i in range(len(matrix)):\n",
    "        \n",
    "        # left to right search\n",
    "        ltr_string = ''.join(matrix[i])\n",
    "        if word in ltr_string : \n",
    "            found = True\n",
    "            return found\n",
    "            \n",
    "        if pos is None:\n",
    "            for j in range(len(matrix[i])):\n",
    "                if matrix[i][j] == word[0]:\n",
    "                    pos = j\n",
    "                    utd_string = utd_string + matrix[i][j]\n",
    "        else :\n",
    "            if matrix[i][pos] in word:\n",
    "                utd_string = utd_string + matrix[i][pos]\n",
    "        found = utd_string == word\n",
    "    return found\n",
    "                "
   ]
  },
  {
   "cell_type": "code",
   "execution_count": 2,
   "metadata": {},
   "outputs": [
    {
     "name": "stdout",
     "output_type": "stream",
     "text": [
      "True\n",
      "True\n",
      "False\n"
     ]
    }
   ],
   "source": [
    "matrix = [\n",
    "  ['F', 'A', 'C', 'I'],\n",
    "  ['O', 'B', 'Q', 'P'],\n",
    "  ['A', 'N', 'O', 'B'],\n",
    "  ['M', 'A', 'S', 'S']]\n",
    "print(word_search(matrix, 'FOAM'))\n",
    "# True\n",
    "print(word_search(matrix, 'NO'))\n",
    "# True\n",
    "print(word_search(matrix, 'BO'))\n",
    "# False"
   ]
  },
  {
   "cell_type": "code",
   "execution_count": null,
   "metadata": {},
   "outputs": [],
   "source": []
  }
 ],
 "metadata": {
  "kernelspec": {
   "display_name": "kernel_36",
   "language": "python",
   "name": "kernel_36"
  },
  "language_info": {
   "codemirror_mode": {
    "name": "ipython",
    "version": 3
   },
   "file_extension": ".py",
   "mimetype": "text/x-python",
   "name": "python",
   "nbconvert_exporter": "python",
   "pygments_lexer": "ipython3",
   "version": "3.6.12"
  }
 },
 "nbformat": 4,
 "nbformat_minor": 4
}
